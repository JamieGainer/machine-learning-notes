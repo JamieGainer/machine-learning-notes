{
 "cells": [
  {
   "cell_type": "code",
   "execution_count": 1,
   "id": "d899fde0",
   "metadata": {},
   "outputs": [],
   "source": [
    "%matplotlib inline"
   ]
  },
  {
   "cell_type": "code",
   "execution_count": 2,
   "id": "b9c6796c",
   "metadata": {},
   "outputs": [],
   "source": [
    "import numpy as np\n",
    "import matplotlib.pyplot as plt"
   ]
  },
  {
   "cell_type": "code",
   "execution_count": 3,
   "id": "0a239ecf",
   "metadata": {},
   "outputs": [],
   "source": [
    "plt.rcParams[\"figure.figsize\"] = [12.0, 8.0]\n",
    "plt.rcParams[\"font.size\"] = 20"
   ]
  },
  {
   "cell_type": "markdown",
   "id": "ae4a7896",
   "metadata": {},
   "source": [
    "# "
   ]
  },
  {
   "cell_type": "markdown",
   "id": "1213d7bb",
   "metadata": {},
   "source": [
    "To match the neural network convention more closely, I am keeping a separate weight and bias"
   ]
  },
  {
   "cell_type": "code",
   "execution_count": 41,
   "id": "29792625",
   "metadata": {},
   "outputs": [],
   "source": [
    "class Batch:\n",
    "    \n",
    "    def __init__(self, data):\n",
    "        self.X = data[:, :-1]\n",
    "        self.Y = data[:, -1]\n",
    "\n",
    "class LinearRegression:\n",
    "    \n",
    "    def __init__(self, data, l1_lambda=0, l2_lambda=0, learning_rate=0.01, batch_size=10, num_epochs=100):\n",
    "        self.data, self.l1_lambda, self.l2_lambda = data, l1_lambda, l2_lambda\n",
    "        self.learning_rate, self.batch_size, self.num_epochs = learning_rate, batch_size, num_epochs\n",
    "        self.weight = np.random.randn(self.data.X.shape[1])\n",
    "        self.bias = np.random.randn()\n",
    "        self.epoch = 0\n",
    "    \n",
    "    def start_epoch(self):\n",
    "        self.data_copy = np.hstack((self.data.X[:], self.data.Y.reshape(len(self.data.Y), 1)[:]))\n",
    "        np.random.shuffle(self.data_copy)\n",
    "    \n",
    "    def get_batch(self):\n",
    "        if len(self.data_copy) > self.batch_size:\n",
    "            data = self.data_copy[-self.batch_size:]\n",
    "            self.data_copy = self.data_copy[:-self.batch_size]\n",
    "        else:\n",
    "            data = self.data_copy\n",
    "            self.epoch += 1\n",
    "            self.start_epoch()\n",
    "        return Batch(data)\n",
    "    \n",
    "    def dW(self, batch):\n",
    "        yhat = self.bias + batch.X.dot(self.weight)\n",
    "        grad = np.sum((yhat - batch.Y).reshape(len(batch.Y), 1)*batch.X, axis=0) / len(batch.Y)\n",
    "        grad += self.l1_lambda * np.sign(self.weight)\n",
    "        grad += self.l2_lambda * self.weight\n",
    "        return grad\n",
    "    \n",
    "    def db(self, batch):\n",
    "        yhat = self.bias + batch.X.dot(self.weight)\n",
    "        grad = np.sum(yhat - batch.Y, axis=0) / len(batch.Y)\n",
    "        return grad\n",
    "    \n",
    "    def loss(self, data):\n",
    "        yhat = data.X.dot(self.weight) + self.bias\n",
    "        return np.sum((yhat - data.Y) ** 2)/(2 * len(data.Y))\n",
    "    \n",
    "    def train_loss(self):\n",
    "        return self.loss(self.data)\n",
    "        \n",
    "    def train(self, test_data=None):\n",
    "        self.train_loss_curve = [self.train_loss()]\n",
    "        if test_data:\n",
    "            self.test_loss_curve = [self.loss(test_data)]\n",
    "        self.start_epoch()\n",
    "        while self.epoch < self.num_epochs:\n",
    "            if self.epoch == 3:\n",
    "                print(self.loss(self.data), self.train_loss(), self.loss(test_data))\n",
    "            batch = self.get_batch()\n",
    "            dW = self.dW(batch)\n",
    "            db = self.db(batch)\n",
    "            self.weight -= self.learning_rate * dW\n",
    "            self.bias -= self.learning_rate * db\n",
    "            self.train_loss_curve.append(self.train_loss())\n",
    "            if test_data:\n",
    "                self.test_loss_curve.append(self.loss(test_data))"
   ]
  },
  {
   "cell_type": "code",
   "execution_count": null,
   "id": "2c051d91",
   "metadata": {},
   "outputs": [],
   "source": []
  },
  {
   "cell_type": "markdown",
   "id": "3bc6d47c",
   "metadata": {},
   "source": [
    "# Example"
   ]
  },
  {
   "cell_type": "markdown",
   "id": "b4da5b54",
   "metadata": {},
   "source": [
    "## Data"
   ]
  },
  {
   "cell_type": "markdown",
   "id": "4d1077ff",
   "metadata": {},
   "source": [
    "I've copied this cell from Data_Generation_Notebook.ipynb to make this notebook more portable.  This class lets us generate uniform data in n_features dimensions with n_samples data points.  The x_i values are uniformly distributed between 0 and 1.  If not specified the weight vector (extended so that its zero component is the bias) has all of its components chosen from a Gaussian random distribution with zero mean and unit variance.  Zero mean, unit variance Gaussian noise is added to calculated y_values with an overall strength parameterized by noise_strength."
   ]
  },
  {
   "cell_type": "code",
   "execution_count": 42,
   "id": "c0f824f3",
   "metadata": {},
   "outputs": [],
   "source": [
    "class LinearRegressionData:\n",
    "    \n",
    "    def __init__(self, n_features, n_samples, weight_vector=None, extend_weight_vector=True, noise_strength=0.01):\n",
    "        \"\"\"\n",
    "        \n",
    "        \"\"\"\n",
    "        self.n_features, self.n_samples, self.noise_strength = n_features, n_samples, noise_strength\n",
    "        self.extend_weight_vector = extend_weight_vector\n",
    "        self.generate_weight_vector(weight_vector)\n",
    "        self.generate_data()\n",
    "                \n",
    "    def generate_weight_vector(self, weight_vector):\n",
    "        \"\"\"\n",
    "        \n",
    "        \"\"\"\n",
    "        if weight_vector is None:\n",
    "            dim = self.n_features + (1 if self.extend_weight_vector else 0) \n",
    "            self.weight_vector = np.random.randn(dim)\n",
    "        else:\n",
    "            self.weight_vector = weight_vector\n",
    "        \n",
    "    def generate_data(self):\n",
    "        \"\"\"\n",
    "        Generate \n",
    "        \"\"\"\n",
    "        if self.extend_weight_vector:\n",
    "            self.X = np.hstack((np.ones((self.n_samples, 1)), np.random.rand(self.n_samples, self.n_features)))\n",
    "        else:\n",
    "            self.X = np.random.rand(self.n_samples, self.n_features)\n",
    "        self.Y = self.X.dot(self.weight_vector) + self.noise_strength * np.random.randn(self.n_samples)"
   ]
  },
  {
   "cell_type": "markdown",
   "id": "927fa58b",
   "metadata": {},
   "source": [
    "## Train/ Test Split"
   ]
  },
  {
   "cell_type": "code",
   "execution_count": 43,
   "id": "c300f40a",
   "metadata": {},
   "outputs": [],
   "source": [
    "class Data:\n",
    "    \n",
    "    def __init__(self, data):\n",
    "        self.X = data[:, :-1]\n",
    "        self.Y = data[:, -1]\n",
    "    \n",
    "\n",
    "class TrainTestSplit:\n",
    "    \n",
    "    def __init__(self, data, train_frac):\n",
    "        combined = np.hstack((data.X[:], data.Y.reshape(len(data.Y), 1)[:]))\n",
    "        np.random.shuffle(combined)\n",
    "        train_set_length = round(train_frac * len(combined))\n",
    "        self.train = Data(combined[:train_set_length])\n",
    "        self.test = Data(combined[train_set_length:])"
   ]
  },
  {
   "cell_type": "code",
   "execution_count": 44,
   "id": "bfa3641d",
   "metadata": {},
   "outputs": [],
   "source": [
    "data = TrainTestSplit(\n",
    "    LinearRegressionData(5, 1000, extend_weight_vector=False, noise_strength=3.0),\n",
    "    0.85)"
   ]
  },
  {
   "cell_type": "code",
   "execution_count": 45,
   "id": "a14916e4",
   "metadata": {},
   "outputs": [
    {
     "name": "stdout",
     "output_type": "stream",
     "text": [
      "4.67266164589455 4.67266164589455 3.981658909280346\n",
      "4.672466585766691 4.672466585766691 3.9848405869233163\n",
      "4.672516573464288 4.672516573464288 3.9833242899895294\n",
      "4.672597200143025 4.672597200143025 3.9848979437729715\n",
      "4.6727800630704985 4.6727800630704985 3.9889836353831676\n",
      "4.673708842986115 4.673708842986115 3.996825342915714\n",
      "4.6734632080441365 4.6734632080441365 3.9963156246914324\n",
      "4.6729803078938374 4.6729803078938374 3.9973130748009558\n",
      "4.6716638708174445 4.6716638708174445 3.9899978505739546\n",
      "4.6724873444667105 4.6724873444667105 3.9956921323763344\n",
      "4.671928149569421 4.671928149569421 3.9935332748989625\n",
      "4.671379181523442 4.671379181523442 3.9920713532663172\n",
      "4.6722282164835915 4.6722282164835915 3.996944881201454\n",
      "4.6709678757358875 4.6709678757358875 3.990655812544084\n",
      "4.669768161708425 4.669768161708425 3.9895120763224736\n",
      "4.66917531269128 4.66917531269128 3.985121937737217\n",
      "4.66963791674643 4.66963791674643 3.9894580275810148\n",
      "4.668714050989461 4.668714050989461 3.9839348285651823\n",
      "4.6683075535500675 4.6683075535500675 3.9822517257449603\n",
      "4.668517771126745 4.668517771126745 3.976197476785184\n",
      "4.6699134955677115 4.6699134955677115 3.9713124483700417\n",
      "4.670806656044058 4.670806656044058 3.969966524603035\n",
      "4.670433052829196 4.670433052829196 3.970625343112918\n",
      "4.671463330705061 4.671463330705061 3.9686998165490905\n",
      "4.670213105158716 4.670213105158716 3.9717599915858197\n",
      "4.668549911875859 4.668549911875859 3.976528553412551\n",
      "4.668319827590608 4.668319827590608 3.976618724864249\n",
      "4.668336784666522 4.668336784666522 3.9795049611864175\n",
      "4.668772442916589 4.668772442916589 3.973436588219328\n",
      "4.668789397162548 4.668789397162548 3.9745825207169463\n",
      "4.668262378930241 4.668262378930241 3.976586196291149\n",
      "4.6685645367713695 4.6685645367713695 3.986361599499166\n",
      "4.668635300431917 4.668635300431917 3.9845651131671214\n",
      "4.668727452063151 4.668727452063151 3.9852017009848897\n",
      "4.6685347556506525 4.6685347556506525 3.9834927867085486\n",
      "4.668598322259647 4.668598322259647 3.9850294670312794\n",
      "4.66821387804925 4.66821387804925 3.977399586753474\n",
      "4.667880696952858 4.667880696952858 3.975209005871621\n",
      "4.666721771475147 4.666721771475147 3.9760997080391673\n",
      "4.666094731763799 4.666094731763799 3.982549988552271\n",
      "4.6656866938831465 4.6656866938831465 3.979118320367688\n",
      "4.66629271871289 4.66629271871289 3.979582678360507\n",
      "4.666915521710054 4.666915521710054 3.9731071364664845\n",
      "4.667953192597415 4.667953192597415 3.9695469921683517\n",
      "4.666067030144719 4.666067030144719 3.973480392024588\n",
      "4.66615008860524 4.66615008860524 3.971220454594136\n",
      "4.666615051840748 4.666615051840748 3.9712053963614\n",
      "4.667498371485819 4.667498371485819 3.9695255120064847\n",
      "4.669843709085613 4.669843709085613 3.9656298427438603\n",
      "4.666456504595749 4.666456504595749 3.9736976329935314\n",
      "4.665495149828915 4.665495149828915 3.9756581936190303\n",
      "4.665870178012252 4.665870178012252 3.9754477838334066\n",
      "4.665991622526291 4.665991622526291 3.9763625024527087\n",
      "4.6672529396789555 4.6672529396789555 3.9695901632120543\n",
      "4.666038824972158 4.666038824972158 3.972993831325473\n",
      "4.6657629090931 4.6657629090931 3.972508257209283\n",
      "4.666633341050225 4.666633341050225 3.9692086823417276\n",
      "4.666408056444444 4.666408056444444 3.968804718749381\n",
      "4.665352021089145 4.665352021089145 3.9718159237866515\n",
      "4.666098906817417 4.666098906817417 3.968858623694153\n",
      "4.665874486394702 4.665874486394702 3.9687652276625234\n",
      "4.664681347587041 4.664681347587041 3.969784764731684\n",
      "4.664069958871437 4.664069958871437 3.970965336093285\n",
      "4.663676697153587 4.663676697153587 3.9720578994372695\n",
      "4.663064803633635 4.663064803633635 3.9773540677834416\n",
      "4.663211850515574 4.663211850515574 3.986465852235705\n",
      "4.662726948901282 4.662726948901282 3.9778933976424664\n",
      "4.662629111888837 4.662629111888837 3.973729144692426\n",
      "4.662557160974036 4.662557160974036 3.971513016292353\n",
      "4.66241642875961 4.66241642875961 3.9699864197240142\n",
      "4.661571702480713 4.661571702480713 3.968896965223457\n",
      "4.66145500264919 4.66145500264919 3.96891214585062\n",
      "4.661149065719226 4.661149065719226 3.9688900774455633\n",
      "4.662447847536231 4.662447847536231 3.9664070982313033\n",
      "4.6630291270528295 4.6630291270528295 3.9654252344405387\n",
      "4.660704959410457 4.660704959410457 3.970428635909716\n",
      "4.660629379723115 4.660629379723115 3.9702090984075866\n",
      "4.6599543133066605 4.6599543133066605 3.9758889294958695\n",
      "4.660271990235766 4.660271990235766 3.9837912561494613\n",
      "4.660883594341398 4.660883594341398 3.988017709101555\n",
      "4.660264319452407 4.660264319452407 3.985711653286697\n",
      "4.659960400678533 4.659960400678533 3.986581963124898\n",
      "4.659584022861732 4.659584022861732 3.9856856209232165\n",
      "4.659204189643976 4.659204189643976 3.982484260216245\n",
      "4.658359550638447 4.658359550638447 3.97401655735659\n"
     ]
    }
   ],
   "source": [
    "fit = LinearRegression(data.train)\n",
    "fit.train(test_data=data.test)"
   ]
  },
  {
   "cell_type": "code",
   "execution_count": 46,
   "id": "8608c458",
   "metadata": {},
   "outputs": [
    {
     "data": {
      "text/plain": [
       "<matplotlib.legend.Legend at 0x7f8280e4aa60>"
      ]
     },
     "execution_count": 46,
     "metadata": {},
     "output_type": "execute_result"
    },
    {
     "data": {
      "image/png": "[encoded data removed]",
      "text/plain": [
       "<Figure size 864x576 with 1 Axes>"
      ]
     },
     "metadata": {
      "needs_background": "light"
     },
     "output_type": "display_data"
    }
   ],
   "source": [
    "plt.plot(fit.train_loss_curve, label = 'train')\n",
    "plt.plot(fit.test_loss_curve, label = 'test')\n",
    "plt.grid()\n",
    "plt.xlabel(\"mini-batch\")\n",
    "plt.ylabel(\"loss\")\n",
    "plt.legend()"
   ]
  },
  {
   "cell_type": "code",
   "execution_count": null,
   "id": "2fe0ca6b",
   "metadata": {},
   "outputs": [],
   "source": []
  }
 ],
 "metadata": {
  "kernelspec": {
   "display_name": "Python 3 (ipykernel)",
   "language": "python",
   "name": "python3"
  },
  "language_info": {
   "codemirror_mode": {
    "name": "ipython",
    "version": 3
   },
   "file_extension": ".py",
   "mimetype": "text/x-python",
   "name": "python",
   "nbconvert_exporter": "python",
   "pygments_lexer": "ipython3",
   "version": "3.9.7"
  }
 },
 "nbformat": 4,
 "nbformat_minor": 5
}
