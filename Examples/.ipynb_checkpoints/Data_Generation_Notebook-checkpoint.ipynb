{
 "cells": [
  {
   "cell_type": "code",
   "execution_count": 20,
   "id": "564961ac",
   "metadata": {},
   "outputs": [],
   "source": [
    "%matplotlib inline"
   ]
  },
  {
   "cell_type": "code",
   "execution_count": 21,
   "id": "88e5bf8f",
   "metadata": {},
   "outputs": [],
   "source": [
    "import matplotlib.pyplot as plt"
   ]
  },
  {
   "cell_type": "code",
   "execution_count": 24,
   "id": "4c870ac5",
   "metadata": {},
   "outputs": [],
   "source": [
    "plt.rcParams[\"figure.figsize\"] = [12.0, 8.0]\n",
    "plt.rcParams[\"font.size\"] = 20"
   ]
  },
  {
   "cell_type": "code",
   "execution_count": 49,
   "id": "483e77a0",
   "metadata": {},
   "outputs": [],
   "source": [
    "class LinearRegressionData:\n",
    "    \n",
    "    def __init__(self, n_features, n_samples, weight_vector=None, extend_weight_vector=True, noise_strength=0.01):\n",
    "        \"\"\"\n",
    "        \n",
    "        \"\"\"\n",
    "        self.n_features, self.n_samples, self.noise_strength = n_features, n_samples, noise_strength\n",
    "        self.extend_weight_vector = extend_weight_vector\n",
    "        self.generate_weight_vector(weight_vector)\n",
    "        self.generate_data()\n",
    "                \n",
    "    def generate_weight_vector(self, weight_vector):\n",
    "        \"\"\"\n",
    "        \n",
    "        \"\"\"\n",
    "        if weight_vector is None:\n",
    "            dim = self.n_features + (1 if self.extend_weight_vector else 0) \n",
    "            self.weight_vector = np.random.randn(dim)\n",
    "        else:\n",
    "            self.weight_vector = weight_vector\n",
    "        \n",
    "    def generate_data(self):\n",
    "        \"\"\"\n",
    "        Generate \n",
    "        \"\"\"\n",
    "        if self.extend_weight_vector:\n",
    "            self.X = np.hstack((np.ones((self.n_samples, 1)), np.random.rand(self.n_samples, self.n_features)))\n",
    "        else:\n",
    "            self.X = np.random.rand(self.n_samples, self.n_features)\n",
    "        self.Y = self.X.dot(self.weight_vector) + self.noise_strength * np.random.randn(self.n_samples)"
   ]
  },
  {
   "cell_type": "code",
   "execution_count": 50,
   "id": "34d9e378",
   "metadata": {},
   "outputs": [],
   "source": [
    "data = LinearRegressionData(5, 15)"
   ]
  },
  {
   "cell_type": "code",
   "execution_count": 51,
   "id": "57635449",
   "metadata": {},
   "outputs": [
    {
     "data": {
      "text/plain": [
       "(array([[1.        , 0.84283978, 0.43730529, 0.93126454, 0.73483511,\n",
       "         0.25662691],\n",
       "        [1.        , 0.49884703, 0.598452  , 0.90413296, 0.41207471,\n",
       "         0.38359036],\n",
       "        [1.        , 0.65385001, 0.58958543, 0.47073446, 0.14193421,\n",
       "         0.23406947],\n",
       "        [1.        , 0.84815096, 0.33048423, 0.31211441, 0.41153342,\n",
       "         0.93874417],\n",
       "        [1.        , 0.55550676, 0.66409766, 0.063259  , 0.23449343,\n",
       "         0.12705588],\n",
       "        [1.        , 0.61785847, 0.69381725, 0.35756012, 0.81337689,\n",
       "         0.80362481],\n",
       "        [1.        , 0.3923538 , 0.91820233, 0.08489512, 0.5964601 ,\n",
       "         0.55868621],\n",
       "        [1.        , 0.72702743, 0.32154502, 0.19292333, 0.92796699,\n",
       "         0.91665683],\n",
       "        [1.        , 0.31558052, 0.65584853, 0.66715992, 0.08369442,\n",
       "         0.8056517 ],\n",
       "        [1.        , 0.23194936, 0.18542268, 0.81147452, 0.82596455,\n",
       "         0.30717886],\n",
       "        [1.        , 0.32451241, 0.07199982, 0.8692655 , 0.91634069,\n",
       "         0.82397231],\n",
       "        [1.        , 0.22000436, 0.97105401, 0.49569731, 0.89464283,\n",
       "         0.62052049],\n",
       "        [1.        , 0.26707723, 0.69432631, 0.4829182 , 0.05124381,\n",
       "         0.61917196],\n",
       "        [1.        , 0.61085855, 0.97296177, 0.93793311, 0.37402389,\n",
       "         0.4567624 ],\n",
       "        [1.        , 0.85643276, 0.60628739, 0.36204825, 0.92864473,\n",
       "         0.47858127]]),\n",
       " array([-1.60370721, -1.37233256, -1.41020961, -0.73155681, -1.62745195,\n",
       "        -1.28539658, -1.56172204, -1.03194574, -0.82008903, -1.46969626,\n",
       "        -0.91951136, -1.66616741, -1.02561519, -1.46682127, -1.64172366]))"
      ]
     },
     "execution_count": 51,
     "metadata": {},
     "output_type": "execute_result"
    }
   ],
   "source": [
    "data.X, data.Y"
   ]
  },
  {
   "cell_type": "code",
   "execution_count": 52,
   "id": "179e8867",
   "metadata": {},
   "outputs": [],
   "source": [
    "data = LinearRegressionData(1, 50, noise_strength=0.05)"
   ]
  },
  {
   "cell_type": "code",
   "execution_count": 53,
   "id": "b44fd2b6",
   "metadata": {},
   "outputs": [
    {
     "data": {
      "text/plain": [
       "Text(0, 0.5, 'y')"
      ]
     },
     "execution_count": 53,
     "metadata": {},
     "output_type": "execute_result"
    },
    {
     "data": {
      "image/png": "[encoded data removed]",
      "text/plain": [
       "<Figure size 864x576 with 1 Axes>"
      ]
     },
     "metadata": {
      "needs_background": "light"
     },
     "output_type": "display_data"
    }
   ],
   "source": [
    "plt.scatter(data.X[:, 1], data.Y)\n",
    "plt.plot([0, 1], [data.weight_vector[0], np.sum(data.weight_vector)])\n",
    "plt.grid()\n",
    "plt.xlabel(\"x\")\n",
    "plt.ylabel(\"y\")"
   ]
  },
  {
   "cell_type": "code",
   "execution_count": null,
   "id": "674af2c3",
   "metadata": {},
   "outputs": [],
   "source": []
  }
 ],
 "metadata": {
  "kernelspec": {
   "display_name": "Python 3 (ipykernel)",
   "language": "python",
   "name": "python3"
  },
  "language_info": {
   "codemirror_mode": {
    "name": "ipython",
    "version": 3
   },
   "file_extension": ".py",
   "mimetype": "text/x-python",
   "name": "python",
   "nbconvert_exporter": "python",
   "pygments_lexer": "ipython3",
   "version": "3.9.7"
  }
 },
 "nbformat": 4,
 "nbformat_minor": 5
}
