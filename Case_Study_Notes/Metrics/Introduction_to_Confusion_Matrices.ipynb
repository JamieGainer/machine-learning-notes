{
 "cells": [
  {
   "cell_type": "code",
   "execution_count": 1,
   "id": "9e8d779f",
   "metadata": {},
   "outputs": [],
   "source": [
    "from sklearn.metrics import confusion_matrix"
   ]
  },
  {
   "cell_type": "markdown",
   "id": "8559ea60",
   "metadata": {},
   "source": [
    "As an example we take 10 binary sample labels with predictions.  \n",
    "A potential \"gotcha\" is that the class labels are the labels they show up in the \"true\" vector.  \n",
    "So in our simulated data below, \"0\" is the positive class label and \"1\" is the negative class label.  \n",
    "We can override this behavior by setting the labels argument."
   ]
  },
  {
   "cell_type": "markdown",
   "id": "9eb605e5",
   "metadata": {},
   "source": [
    "There are 4 true class 0--  \n",
    "1 class 0 falsely predicted to be class 1  \n",
    "3 true class 1  \n",
    "and 2 class 1 falsely predicted to be class 0.  "
   ]
  },
  {
   "cell_type": "code",
   "execution_count": 2,
   "id": "bf19e942",
   "metadata": {},
   "outputs": [],
   "source": [
    "true = [0,0,0,0,0,1,1,1,1,1]\n",
    "pred = [0,0,0,0,1,0,0,1,1,1]\n",
    "pred_2 = [1,0,0,0,0,0,0,1,1,1]"
   ]
  },
  {
   "cell_type": "code",
   "execution_count": 4,
   "id": "0f6cff98",
   "metadata": {},
   "outputs": [
    {
     "data": {
      "text/plain": [
       "(array([[4, 1],\n",
       "        [2, 3]]),\n",
       " array([[4, 1],\n",
       "        [2, 3]]),\n",
       " array([[3, 2],\n",
       "        [1, 4]]),\n",
       " array([[4, 1],\n",
       "        [2, 3]]))"
      ]
     },
     "execution_count": 4,
     "metadata": {},
     "output_type": "execute_result"
    }
   ],
   "source": [
    "(confusion_matrix(true, pred), confusion_matrix(true, pred_2), \n",
    " confusion_matrix(true, pred, labels=[1, 0]),\n",
    " confusion_matrix(true, pred, labels=[0, 1]))"
   ]
  },
  {
   "cell_type": "markdown",
   "id": "93d74c7d",
   "metadata": {},
   "source": [
    "Note that the diagonal entries $C_{ii}$ are the numbers of ground truth class $i$ that are correctly classified as being in class $i$"
   ]
  },
  {
   "cell_type": "markdown",
   "id": "5974bfef",
   "metadata": {},
   "source": [
    "In general, the entry $C_{ij}$ is the number of ground truth $i$ samples which are classified as class $j$"
   ]
  }
 ],
 "metadata": {
  "kernelspec": {
   "display_name": "Python 3 (ipykernel)",
   "language": "python",
   "name": "python3"
  },
  "language_info": {
   "codemirror_mode": {
    "name": "ipython",
    "version": 3
   },
   "file_extension": ".py",
   "mimetype": "text/x-python",
   "name": "python",
   "nbconvert_exporter": "python",
   "pygments_lexer": "ipython3",
   "version": "3.9.7"
  }
 },
 "nbformat": 4,
 "nbformat_minor": 5
}
