{
 "cells": [
  {
   "cell_type": "markdown",
   "id": "cfe439f8",
   "metadata": {},
   "source": [
    "## Prepare Iris Dataset"
   ]
  },
  {
   "cell_type": "code",
   "execution_count": 1,
   "id": "776b7fcf",
   "metadata": {},
   "outputs": [],
   "source": [
    "import pandas as pd\n",
    "from sklearn import datasets\n",
    "from sklearn.model_selection import train_test_split\n",
    "from sklearn.preprocessing import OneHotEncoder"
   ]
  },
  {
   "cell_type": "code",
   "execution_count": 2,
   "id": "ee09b369",
   "metadata": {},
   "outputs": [],
   "source": [
    "iris = pd.DataFrame()\n",
    "iris_from_file = datasets.load_iris()\n",
    "\n",
    "for column_name, row in zip(iris_from_file['feature_names'], iris_from_file['data'].T):\n",
    "    iris[column_name] = row\n",
    "iris[\"target\"] = iris_from_file[\"target\"]"
   ]
  },
  {
   "cell_type": "markdown",
   "id": "0fe3edd3",
   "metadata": {},
   "source": [
    "Potential \"gotcha\": categories[i] are the categories in the ith column.  So if we have only one column to transform, then we still need to pass a list containing the the single list describing those categories"
   ]
  },
  {
   "cell_type": "code",
   "execution_count": 3,
   "id": "b730bbb5",
   "metadata": {},
   "outputs": [],
   "source": [
    "iris_target_ohe = OneHotEncoder(categories=[[0, 1, 2]], sparse=False)\n",
    "iris_target_ohe_data = iris_target_ohe.fit_transform(iris[\"target\"].to_numpy().reshape(-1, 1))\n",
    "for column_name, row in zip([\"0\", \"1\", \"2\"], iris_target_ohe_data.T):\n",
    "    iris[column_name] = row.astype(\"int\")"
   ]
  },
  {
   "cell_type": "code",
   "execution_count": 4,
   "id": "18a856d0",
   "metadata": {},
   "outputs": [],
   "source": [
    "iris_train, iris_test = train_test_split(iris, train_size=0.7, random_state=1)"
   ]
  },
  {
   "cell_type": "markdown",
   "id": "2b153604",
   "metadata": {},
   "source": [
    "## Logistic Regression-- Sklearn"
   ]
  },
  {
   "cell_type": "code",
   "execution_count": 5,
   "id": "c021b680",
   "metadata": {},
   "outputs": [],
   "source": [
    "from sklearn.linear_model import LogisticRegression"
   ]
  },
  {
   "cell_type": "code",
   "execution_count": 6,
   "id": "9e42abac",
   "metadata": {},
   "outputs": [
    {
     "data": {
      "text/plain": [
       "LogisticRegression()"
      ]
     },
     "execution_count": 6,
     "metadata": {},
     "output_type": "execute_result"
    }
   ],
   "source": [
    "lrc = LogisticRegression()\n",
    "lrc.fit(iris_train[iris_from_file[\"feature_names\"]], iris_train[\"target\"])"
   ]
  },
  {
   "cell_type": "code",
   "execution_count": 7,
   "id": "d1864e61",
   "metadata": {},
   "outputs": [],
   "source": [
    "from sklearn.metrics import confusion_matrix"
   ]
  },
  {
   "cell_type": "code",
   "execution_count": 8,
   "id": "3a285640",
   "metadata": {},
   "outputs": [
    {
     "data": {
      "text/plain": [
       "array([[36,  0,  0],\n",
       "       [ 0, 30,  2],\n",
       "       [ 0,  0, 37]])"
      ]
     },
     "execution_count": 8,
     "metadata": {},
     "output_type": "execute_result"
    }
   ],
   "source": [
    "confusion_matrix(iris_train[\"target\"], lrc.predict(iris_train[iris_from_file[\"feature_names\"]]))"
   ]
  },
  {
   "cell_type": "code",
   "execution_count": 9,
   "id": "9a4894e9",
   "metadata": {},
   "outputs": [
    {
     "data": {
      "text/plain": [
       "array([[14,  0,  0],\n",
       "       [ 0, 17,  1],\n",
       "       [ 0,  0, 13]])"
      ]
     },
     "execution_count": 9,
     "metadata": {},
     "output_type": "execute_result"
    }
   ],
   "source": [
    "confusion_matrix(iris_test[\"target\"], lrc.predict(iris_test[iris_from_file[\"feature_names\"]]))"
   ]
  },
  {
   "cell_type": "markdown",
   "id": "7acb7f3e",
   "metadata": {},
   "source": [
    "## Logistic Regression-- Sklearn (with Regularization)"
   ]
  },
  {
   "cell_type": "code",
   "execution_count": 10,
   "id": "26402dab",
   "metadata": {},
   "outputs": [
    {
     "data": {
      "text/plain": [
       "LogisticRegression(C=0.1)"
      ]
     },
     "execution_count": 10,
     "metadata": {},
     "output_type": "execute_result"
    }
   ],
   "source": [
    "lrc_2 = LogisticRegression(penalty='l2', C=0.1)\n",
    "lrc_2.fit(iris_train[iris_from_file[\"feature_names\"]], iris_train[\"target\"])"
   ]
  },
  {
   "cell_type": "code",
   "execution_count": 11,
   "id": "d7381c23",
   "metadata": {},
   "outputs": [
    {
     "data": {
      "text/plain": [
       "array([[36,  0,  0],\n",
       "       [ 0, 26,  6],\n",
       "       [ 0,  1, 36]])"
      ]
     },
     "execution_count": 11,
     "metadata": {},
     "output_type": "execute_result"
    }
   ],
   "source": [
    "confusion_matrix(iris_train[\"target\"], lrc_2.predict(iris_train[iris_from_file[\"feature_names\"]]))"
   ]
  },
  {
   "cell_type": "code",
   "execution_count": 12,
   "id": "e49037b1",
   "metadata": {},
   "outputs": [
    {
     "data": {
      "text/plain": [
       "array([[14,  0,  0],\n",
       "       [ 0, 16,  2],\n",
       "       [ 0,  1, 12]])"
      ]
     },
     "execution_count": 12,
     "metadata": {},
     "output_type": "execute_result"
    }
   ],
   "source": [
    "confusion_matrix(iris_test[\"target\"], lrc_2.predict(iris_test[iris_from_file[\"feature_names\"]]))"
   ]
  },
  {
   "cell_type": "markdown",
   "id": "f1660a8d",
   "metadata": {},
   "source": [
    "## Logistic Regression-- Tensorflow"
   ]
  },
  {
   "cell_type": "code",
   "execution_count": 13,
   "id": "d2a304a8",
   "metadata": {},
   "outputs": [
    {
     "name": "stderr",
     "output_type": "stream",
     "text": [
      "2023-06-25 18:44:26.544896: I tensorflow/core/platform/cpu_feature_guard.cc:182] This TensorFlow binary is optimized to use available CPU instructions in performance-critical operations.\n",
      "To enable the following instructions: AVX2 FMA, in other operations, rebuild TensorFlow with the appropriate compiler flags.\n"
     ]
    }
   ],
   "source": [
    "import tensorflow as tf"
   ]
  },
  {
   "cell_type": "code",
   "execution_count": 14,
   "id": "a7ba01e2",
   "metadata": {},
   "outputs": [],
   "source": [
    "lr_tf = tf.keras.models.Sequential([tf.keras.layers.Dense(units=3, activation='softmax')])\n",
    "lr_tf.compile(loss=tf.keras.losses.CategoricalCrossentropy(),\n",
    "              optimizer=tf.keras.optimizers.Adam(learning_rate=0.01),\n",
    "              metrics=[tf.keras.metrics.CategoricalAccuracy()]\n",
    "             )"
   ]
  },
  {
   "cell_type": "code",
   "execution_count": 15,
   "id": "fe168f18",
   "metadata": {},
   "outputs": [
    {
     "name": "stdout",
     "output_type": "stream",
     "text": [
      "Epoch 1/200\n",
      "4/4 [==============================] - 1s 68ms/step - loss: 4.3234 - categorical_accuracy: 0.3048 - val_loss: 3.6676 - val_categorical_accuracy: 0.3778\n",
      "Epoch 2/200\n",
      "4/4 [==============================] - 0s 11ms/step - loss: 3.9218 - categorical_accuracy: 0.2667 - val_loss: 3.4222 - val_categorical_accuracy: 0.2889\n",
      "Epoch 3/200\n",
      "4/4 [==============================] - 0s 11ms/step - loss: 3.6346 - categorical_accuracy: 0.1048 - val_loss: 3.2615 - val_categorical_accuracy: 0.0444\n",
      "Epoch 4/200\n",
      "4/4 [==============================] - 0s 11ms/step - loss: 3.4147 - categorical_accuracy: 0.0381 - val_loss: 3.1144 - val_categorical_accuracy: 0.1556\n",
      "Epoch 5/200\n",
      "4/4 [==============================] - 0s 11ms/step - loss: 3.2010 - categorical_accuracy: 0.1524 - val_loss: 2.8922 - val_categorical_accuracy: 0.2000\n",
      "Epoch 6/200\n",
      "4/4 [==============================] - 0s 13ms/step - loss: 2.9425 - categorical_accuracy: 0.1429 - val_loss: 2.6232 - val_categorical_accuracy: 0.1556\n",
      "Epoch 7/200\n",
      "4/4 [==============================] - 0s 13ms/step - loss: 2.6844 - categorical_accuracy: 0.0762 - val_loss: 2.3571 - val_categorical_accuracy: 0.0667\n",
      "Epoch 8/200\n",
      "4/4 [==============================] - 0s 13ms/step - loss: 2.4327 - categorical_accuracy: 0.0381 - val_loss: 2.1159 - val_categorical_accuracy: 0.0444\n",
      "Epoch 9/200\n",
      "4/4 [==============================] - 0s 13ms/step - loss: 2.1917 - categorical_accuracy: 0.0476 - val_loss: 1.8792 - val_categorical_accuracy: 0.0444\n",
      "Epoch 10/200\n",
      "4/4 [==============================] - 0s 14ms/step - loss: 1.9480 - categorical_accuracy: 0.0476 - val_loss: 1.6768 - val_categorical_accuracy: 0.0667\n",
      "Epoch 11/200\n",
      "4/4 [==============================] - 0s 14ms/step - loss: 1.7187 - categorical_accuracy: 0.0667 - val_loss: 1.4635 - val_categorical_accuracy: 0.1333\n",
      "Epoch 12/200\n",
      "4/4 [==============================] - 0s 14ms/step - loss: 1.4828 - categorical_accuracy: 0.0762 - val_loss: 1.2756 - val_categorical_accuracy: 0.1778\n",
      "Epoch 13/200\n",
      "4/4 [==============================] - 0s 14ms/step - loss: 1.2956 - categorical_accuracy: 0.0667 - val_loss: 1.1074 - val_categorical_accuracy: 0.1778\n",
      "Epoch 14/200\n",
      "4/4 [==============================] - 0s 14ms/step - loss: 1.1344 - categorical_accuracy: 0.0762 - val_loss: 0.9992 - val_categorical_accuracy: 0.1778\n",
      "Epoch 15/200\n",
      "4/4 [==============================] - 0s 14ms/step - loss: 1.0336 - categorical_accuracy: 0.1333 - val_loss: 0.9418 - val_categorical_accuracy: 0.3333\n",
      "Epoch 16/200\n",
      "4/4 [==============================] - 0s 13ms/step - loss: 0.9955 - categorical_accuracy: 0.3524 - val_loss: 0.9271 - val_categorical_accuracy: 0.3778\n",
      "Epoch 17/200\n",
      "4/4 [==============================] - 0s 13ms/step - loss: 0.9800 - categorical_accuracy: 0.4000 - val_loss: 0.9141 - val_categorical_accuracy: 0.4444\n",
      "Epoch 18/200\n",
      "4/4 [==============================] - 0s 13ms/step - loss: 0.9488 - categorical_accuracy: 0.3905 - val_loss: 0.8807 - val_categorical_accuracy: 0.4889\n",
      "Epoch 19/200\n",
      "4/4 [==============================] - 0s 15ms/step - loss: 0.9016 - categorical_accuracy: 0.4571 - val_loss: 0.8593 - val_categorical_accuracy: 0.5333\n",
      "Epoch 20/200\n",
      "4/4 [==============================] - 0s 12ms/step - loss: 0.8784 - categorical_accuracy: 0.5238 - val_loss: 0.8612 - val_categorical_accuracy: 0.5778\n",
      "Epoch 21/200\n",
      "4/4 [==============================] - 0s 13ms/step - loss: 0.8500 - categorical_accuracy: 0.6381 - val_loss: 0.8393 - val_categorical_accuracy: 0.5778\n",
      "Epoch 22/200\n",
      "4/4 [==============================] - 0s 14ms/step - loss: 0.8277 - categorical_accuracy: 0.6095 - val_loss: 0.8002 - val_categorical_accuracy: 0.6000\n",
      "Epoch 23/200\n",
      "4/4 [==============================] - 0s 11ms/step - loss: 0.8040 - categorical_accuracy: 0.5429 - val_loss: 0.7677 - val_categorical_accuracy: 0.5556\n",
      "Epoch 24/200\n",
      "4/4 [==============================] - 0s 10ms/step - loss: 0.7811 - categorical_accuracy: 0.5333 - val_loss: 0.7499 - val_categorical_accuracy: 0.5556\n",
      "Epoch 25/200\n",
      "4/4 [==============================] - 0s 13ms/step - loss: 0.7637 - categorical_accuracy: 0.5238 - val_loss: 0.7289 - val_categorical_accuracy: 0.5778\n",
      "Epoch 26/200\n",
      "4/4 [==============================] - 0s 13ms/step - loss: 0.7472 - categorical_accuracy: 0.5143 - val_loss: 0.7152 - val_categorical_accuracy: 0.5778\n",
      "Epoch 27/200\n",
      "4/4 [==============================] - 0s 12ms/step - loss: 0.7313 - categorical_accuracy: 0.5238 - val_loss: 0.7092 - val_categorical_accuracy: 0.5778\n",
      "Epoch 28/200\n",
      "4/4 [==============================] - 0s 13ms/step - loss: 0.7180 - categorical_accuracy: 0.5810 - val_loss: 0.7006 - val_categorical_accuracy: 0.6000\n",
      "Epoch 29/200\n",
      "4/4 [==============================] - 0s 16ms/step - loss: 0.7062 - categorical_accuracy: 0.5905 - val_loss: 0.6856 - val_categorical_accuracy: 0.6000\n",
      "Epoch 30/200\n",
      "4/4 [==============================] - 0s 15ms/step - loss: 0.6938 - categorical_accuracy: 0.6000 - val_loss: 0.6756 - val_categorical_accuracy: 0.6000\n",
      "Epoch 31/200\n",
      "4/4 [==============================] - 0s 15ms/step - loss: 0.6818 - categorical_accuracy: 0.5714 - val_loss: 0.6579 - val_categorical_accuracy: 0.6000\n",
      "Epoch 32/200\n",
      "4/4 [==============================] - 0s 15ms/step - loss: 0.6702 - categorical_accuracy: 0.5429 - val_loss: 0.6491 - val_categorical_accuracy: 0.6000\n",
      "Epoch 33/200\n",
      "4/4 [==============================] - 0s 15ms/step - loss: 0.6601 - categorical_accuracy: 0.5810 - val_loss: 0.6402 - val_categorical_accuracy: 0.6222\n",
      "Epoch 34/200\n",
      "4/4 [==============================] - 0s 11ms/step - loss: 0.6515 - categorical_accuracy: 0.5619 - val_loss: 0.6290 - val_categorical_accuracy: 0.6000\n",
      "Epoch 35/200\n",
      "4/4 [==============================] - 0s 15ms/step - loss: 0.6426 - categorical_accuracy: 0.6190 - val_loss: 0.6310 - val_categorical_accuracy: 0.6000\n",
      "Epoch 36/200\n",
      "4/4 [==============================] - 0s 15ms/step - loss: 0.6329 - categorical_accuracy: 0.6381 - val_loss: 0.6264 - val_categorical_accuracy: 0.6222\n",
      "Epoch 37/200\n",
      "4/4 [==============================] - 0s 14ms/step - loss: 0.6243 - categorical_accuracy: 0.6476 - val_loss: 0.6126 - val_categorical_accuracy: 0.6222\n",
      "Epoch 38/200\n",
      "4/4 [==============================] - 0s 14ms/step - loss: 0.6154 - categorical_accuracy: 0.6476 - val_loss: 0.6106 - val_categorical_accuracy: 0.6222\n",
      "Epoch 39/200\n",
      "4/4 [==============================] - 0s 11ms/step - loss: 0.6080 - categorical_accuracy: 0.6476 - val_loss: 0.6089 - val_categorical_accuracy: 0.6222\n",
      "Epoch 40/200\n",
      "4/4 [==============================] - 0s 12ms/step - loss: 0.6032 - categorical_accuracy: 0.6571 - val_loss: 0.6080 - val_categorical_accuracy: 0.6222\n",
      "Epoch 41/200\n",
      "4/4 [==============================] - 0s 9ms/step - loss: 0.5963 - categorical_accuracy: 0.6762 - val_loss: 0.5955 - val_categorical_accuracy: 0.6222\n",
      "Epoch 42/200\n",
      "4/4 [==============================] - 0s 12ms/step - loss: 0.5879 - categorical_accuracy: 0.6571 - val_loss: 0.5848 - val_categorical_accuracy: 0.6222\n",
      "Epoch 43/200\n",
      "4/4 [==============================] - 0s 12ms/step - loss: 0.5813 - categorical_accuracy: 0.6571 - val_loss: 0.5812 - val_categorical_accuracy: 0.6222\n",
      "Epoch 44/200\n",
      "4/4 [==============================] - 0s 13ms/step - loss: 0.5753 - categorical_accuracy: 0.6857 - val_loss: 0.5822 - val_categorical_accuracy: 0.6222\n",
      "Epoch 45/200\n",
      "4/4 [==============================] - 0s 13ms/step - loss: 0.5706 - categorical_accuracy: 0.6857 - val_loss: 0.5727 - val_categorical_accuracy: 0.6222\n",
      "Epoch 46/200\n",
      "4/4 [==============================] - 0s 13ms/step - loss: 0.5623 - categorical_accuracy: 0.6667 - val_loss: 0.5536 - val_categorical_accuracy: 0.6444\n",
      "Epoch 47/200\n",
      "4/4 [==============================] - 0s 13ms/step - loss: 0.5567 - categorical_accuracy: 0.6667 - val_loss: 0.5476 - val_categorical_accuracy: 0.6444\n",
      "Epoch 48/200\n",
      "4/4 [==============================] - 0s 12ms/step - loss: 0.5508 - categorical_accuracy: 0.6952 - val_loss: 0.5464 - val_categorical_accuracy: 0.6444\n",
      "Epoch 49/200\n",
      "4/4 [==============================] - 0s 13ms/step - loss: 0.5449 - categorical_accuracy: 0.7143 - val_loss: 0.5450 - val_categorical_accuracy: 0.6444\n",
      "Epoch 50/200\n",
      "4/4 [==============================] - 0s 14ms/step - loss: 0.5397 - categorical_accuracy: 0.6857 - val_loss: 0.5425 - val_categorical_accuracy: 0.6444\n"
     ]
    },
    {
     "name": "stdout",
     "output_type": "stream",
     "text": [
      "Epoch 51/200\n",
      "4/4 [==============================] - 0s 13ms/step - loss: 0.5348 - categorical_accuracy: 0.6857 - val_loss: 0.5341 - val_categorical_accuracy: 0.6444\n",
      "Epoch 52/200\n",
      "4/4 [==============================] - 0s 13ms/step - loss: 0.5287 - categorical_accuracy: 0.7238 - val_loss: 0.5177 - val_categorical_accuracy: 0.7111\n",
      "Epoch 53/200\n",
      "4/4 [==============================] - 0s 13ms/step - loss: 0.5262 - categorical_accuracy: 0.7143 - val_loss: 0.5128 - val_categorical_accuracy: 0.7333\n",
      "Epoch 54/200\n",
      "4/4 [==============================] - 0s 15ms/step - loss: 0.5220 - categorical_accuracy: 0.7238 - val_loss: 0.5110 - val_categorical_accuracy: 0.6889\n",
      "Epoch 55/200\n",
      "4/4 [==============================] - 0s 15ms/step - loss: 0.5170 - categorical_accuracy: 0.7429 - val_loss: 0.5144 - val_categorical_accuracy: 0.6444\n",
      "Epoch 56/200\n",
      "4/4 [==============================] - 0s 15ms/step - loss: 0.5107 - categorical_accuracy: 0.7429 - val_loss: 0.5136 - val_categorical_accuracy: 0.6444\n",
      "Epoch 57/200\n",
      "4/4 [==============================] - 0s 15ms/step - loss: 0.5063 - categorical_accuracy: 0.7333 - val_loss: 0.5099 - val_categorical_accuracy: 0.6444\n",
      "Epoch 58/200\n",
      "4/4 [==============================] - 0s 16ms/step - loss: 0.5039 - categorical_accuracy: 0.7429 - val_loss: 0.5033 - val_categorical_accuracy: 0.6667\n",
      "Epoch 59/200\n",
      "4/4 [==============================] - 0s 14ms/step - loss: 0.4977 - categorical_accuracy: 0.7524 - val_loss: 0.5043 - val_categorical_accuracy: 0.6444\n",
      "Epoch 60/200\n",
      "4/4 [==============================] - 0s 13ms/step - loss: 0.4945 - categorical_accuracy: 0.7333 - val_loss: 0.5025 - val_categorical_accuracy: 0.6444\n",
      "Epoch 61/200\n",
      "4/4 [==============================] - 0s 11ms/step - loss: 0.4901 - categorical_accuracy: 0.7429 - val_loss: 0.4964 - val_categorical_accuracy: 0.6444\n",
      "Epoch 62/200\n",
      "4/4 [==============================] - 0s 13ms/step - loss: 0.4866 - categorical_accuracy: 0.7429 - val_loss: 0.4921 - val_categorical_accuracy: 0.6667\n",
      "Epoch 63/200\n",
      "4/4 [==============================] - 0s 12ms/step - loss: 0.4829 - categorical_accuracy: 0.7524 - val_loss: 0.4954 - val_categorical_accuracy: 0.6444\n",
      "Epoch 64/200\n",
      "4/4 [==============================] - 0s 11ms/step - loss: 0.4793 - categorical_accuracy: 0.7333 - val_loss: 0.4951 - val_categorical_accuracy: 0.6222\n",
      "Epoch 65/200\n",
      "4/4 [==============================] - 0s 11ms/step - loss: 0.4763 - categorical_accuracy: 0.7333 - val_loss: 0.4957 - val_categorical_accuracy: 0.6222\n",
      "Epoch 66/200\n",
      "4/4 [==============================] - 0s 11ms/step - loss: 0.4740 - categorical_accuracy: 0.7333 - val_loss: 0.4787 - val_categorical_accuracy: 0.6889\n",
      "Epoch 67/200\n",
      "4/4 [==============================] - 0s 9ms/step - loss: 0.4676 - categorical_accuracy: 0.7905 - val_loss: 0.4754 - val_categorical_accuracy: 0.6889\n",
      "Epoch 68/200\n",
      "4/4 [==============================] - 0s 9ms/step - loss: 0.4662 - categorical_accuracy: 0.8000 - val_loss: 0.4700 - val_categorical_accuracy: 0.7333\n",
      "Epoch 69/200\n",
      "4/4 [==============================] - 0s 9ms/step - loss: 0.4610 - categorical_accuracy: 0.8000 - val_loss: 0.4782 - val_categorical_accuracy: 0.6444\n",
      "Epoch 70/200\n",
      "4/4 [==============================] - 0s 9ms/step - loss: 0.4582 - categorical_accuracy: 0.7333 - val_loss: 0.4753 - val_categorical_accuracy: 0.6667\n",
      "Epoch 71/200\n",
      "4/4 [==============================] - 0s 9ms/step - loss: 0.4541 - categorical_accuracy: 0.7810 - val_loss: 0.4626 - val_categorical_accuracy: 0.7333\n",
      "Epoch 72/200\n",
      "4/4 [==============================] - 0s 9ms/step - loss: 0.4523 - categorical_accuracy: 0.8476 - val_loss: 0.4496 - val_categorical_accuracy: 0.8667\n",
      "Epoch 73/200\n",
      "4/4 [==============================] - 0s 9ms/step - loss: 0.4482 - categorical_accuracy: 0.8762 - val_loss: 0.4513 - val_categorical_accuracy: 0.8222\n",
      "Epoch 74/200\n",
      "4/4 [==============================] - 0s 9ms/step - loss: 0.4462 - categorical_accuracy: 0.8095 - val_loss: 0.4608 - val_categorical_accuracy: 0.6889\n",
      "Epoch 75/200\n",
      "4/4 [==============================] - 0s 9ms/step - loss: 0.4418 - categorical_accuracy: 0.8000 - val_loss: 0.4584 - val_categorical_accuracy: 0.6889\n",
      "Epoch 76/200\n",
      "4/4 [==============================] - 0s 9ms/step - loss: 0.4397 - categorical_accuracy: 0.8095 - val_loss: 0.4538 - val_categorical_accuracy: 0.7111\n",
      "Epoch 77/200\n",
      "4/4 [==============================] - 0s 9ms/step - loss: 0.4365 - categorical_accuracy: 0.7905 - val_loss: 0.4612 - val_categorical_accuracy: 0.6444\n",
      "Epoch 78/200\n",
      "4/4 [==============================] - 0s 9ms/step - loss: 0.4353 - categorical_accuracy: 0.7524 - val_loss: 0.4617 - val_categorical_accuracy: 0.6444\n",
      "Epoch 79/200\n",
      "4/4 [==============================] - 0s 9ms/step - loss: 0.4332 - categorical_accuracy: 0.7905 - val_loss: 0.4505 - val_categorical_accuracy: 0.6889\n",
      "Epoch 80/200\n",
      "4/4 [==============================] - 0s 9ms/step - loss: 0.4274 - categorical_accuracy: 0.8286 - val_loss: 0.4424 - val_categorical_accuracy: 0.7778\n",
      "Epoch 81/200\n",
      "4/4 [==============================] - 0s 9ms/step - loss: 0.4241 - categorical_accuracy: 0.8190 - val_loss: 0.4382 - val_categorical_accuracy: 0.8000\n",
      "Epoch 82/200\n",
      "4/4 [==============================] - 0s 9ms/step - loss: 0.4222 - categorical_accuracy: 0.8381 - val_loss: 0.4291 - val_categorical_accuracy: 0.8667\n",
      "Epoch 83/200\n",
      "4/4 [==============================] - 0s 9ms/step - loss: 0.4184 - categorical_accuracy: 0.8857 - val_loss: 0.4292 - val_categorical_accuracy: 0.8667\n",
      "Epoch 84/200\n",
      "4/4 [==============================] - 0s 9ms/step - loss: 0.4156 - categorical_accuracy: 0.8571 - val_loss: 0.4289 - val_categorical_accuracy: 0.8444\n",
      "Epoch 85/200\n",
      "4/4 [==============================] - 0s 9ms/step - loss: 0.4131 - categorical_accuracy: 0.8762 - val_loss: 0.4190 - val_categorical_accuracy: 0.9111\n",
      "Epoch 86/200\n",
      "4/4 [==============================] - 0s 9ms/step - loss: 0.4126 - categorical_accuracy: 0.9333 - val_loss: 0.4124 - val_categorical_accuracy: 0.9333\n",
      "Epoch 87/200\n",
      "4/4 [==============================] - 0s 9ms/step - loss: 0.4081 - categorical_accuracy: 0.9429 - val_loss: 0.4166 - val_categorical_accuracy: 0.8667\n",
      "Epoch 88/200\n",
      "4/4 [==============================] - 0s 10ms/step - loss: 0.4080 - categorical_accuracy: 0.8571 - val_loss: 0.4254 - val_categorical_accuracy: 0.8222\n",
      "Epoch 89/200\n",
      "4/4 [==============================] - 0s 10ms/step - loss: 0.4033 - categorical_accuracy: 0.8476 - val_loss: 0.4218 - val_categorical_accuracy: 0.8222\n",
      "Epoch 90/200\n",
      "4/4 [==============================] - 0s 9ms/step - loss: 0.3999 - categorical_accuracy: 0.8762 - val_loss: 0.4129 - val_categorical_accuracy: 0.8667\n",
      "Epoch 91/200\n",
      "4/4 [==============================] - 0s 9ms/step - loss: 0.3972 - categorical_accuracy: 0.9238 - val_loss: 0.4049 - val_categorical_accuracy: 0.9333\n",
      "Epoch 92/200\n",
      "4/4 [==============================] - 0s 9ms/step - loss: 0.3945 - categorical_accuracy: 0.9333 - val_loss: 0.3988 - val_categorical_accuracy: 0.9556\n",
      "Epoch 93/200\n",
      "4/4 [==============================] - 0s 10ms/step - loss: 0.3954 - categorical_accuracy: 0.9429 - val_loss: 0.3931 - val_categorical_accuracy: 0.9556\n",
      "Epoch 94/200\n",
      "4/4 [==============================] - 0s 9ms/step - loss: 0.3910 - categorical_accuracy: 0.9333 - val_loss: 0.4017 - val_categorical_accuracy: 0.9111\n",
      "Epoch 95/200\n",
      "4/4 [==============================] - 0s 9ms/step - loss: 0.3860 - categorical_accuracy: 0.9238 - val_loss: 0.4141 - val_categorical_accuracy: 0.8222\n",
      "Epoch 96/200\n",
      "4/4 [==============================] - 0s 9ms/step - loss: 0.3879 - categorical_accuracy: 0.8476 - val_loss: 0.4175 - val_categorical_accuracy: 0.7778\n",
      "Epoch 97/200\n",
      "4/4 [==============================] - 0s 9ms/step - loss: 0.3838 - categorical_accuracy: 0.8571 - val_loss: 0.4004 - val_categorical_accuracy: 0.9111\n",
      "Epoch 98/200\n",
      "4/4 [==============================] - 0s 10ms/step - loss: 0.3826 - categorical_accuracy: 0.9429 - val_loss: 0.3841 - val_categorical_accuracy: 0.9556\n",
      "Epoch 99/200\n",
      "4/4 [==============================] - 0s 9ms/step - loss: 0.3802 - categorical_accuracy: 0.9619 - val_loss: 0.3824 - val_categorical_accuracy: 0.9556\n",
      "Epoch 100/200\n",
      "4/4 [==============================] - 0s 9ms/step - loss: 0.3776 - categorical_accuracy: 0.9524 - val_loss: 0.3844 - val_categorical_accuracy: 0.9556\n"
     ]
    },
    {
     "name": "stdout",
     "output_type": "stream",
     "text": [
      "Epoch 101/200\n",
      "4/4 [==============================] - 0s 10ms/step - loss: 0.3741 - categorical_accuracy: 0.9333 - val_loss: 0.3893 - val_categorical_accuracy: 0.9333\n",
      "Epoch 102/200\n",
      "4/4 [==============================] - 0s 9ms/step - loss: 0.3713 - categorical_accuracy: 0.9238 - val_loss: 0.3907 - val_categorical_accuracy: 0.9111\n",
      "Epoch 103/200\n",
      "4/4 [==============================] - 0s 10ms/step - loss: 0.3697 - categorical_accuracy: 0.9238 - val_loss: 0.3886 - val_categorical_accuracy: 0.9111\n",
      "Epoch 104/200\n",
      "4/4 [==============================] - 0s 10ms/step - loss: 0.3680 - categorical_accuracy: 0.9238 - val_loss: 0.3892 - val_categorical_accuracy: 0.9111\n",
      "Epoch 105/200\n",
      "4/4 [==============================] - 0s 9ms/step - loss: 0.3646 - categorical_accuracy: 0.9238 - val_loss: 0.3794 - val_categorical_accuracy: 0.9333\n",
      "Epoch 106/200\n",
      "4/4 [==============================] - 0s 10ms/step - loss: 0.3634 - categorical_accuracy: 0.9429 - val_loss: 0.3712 - val_categorical_accuracy: 0.9556\n",
      "Epoch 107/200\n",
      "4/4 [==============================] - 0s 10ms/step - loss: 0.3620 - categorical_accuracy: 0.9524 - val_loss: 0.3705 - val_categorical_accuracy: 0.9556\n",
      "Epoch 108/200\n",
      "4/4 [==============================] - 0s 10ms/step - loss: 0.3592 - categorical_accuracy: 0.9333 - val_loss: 0.3788 - val_categorical_accuracy: 0.9111\n",
      "Epoch 109/200\n",
      "4/4 [==============================] - 0s 9ms/step - loss: 0.3582 - categorical_accuracy: 0.9238 - val_loss: 0.3835 - val_categorical_accuracy: 0.9111\n",
      "Epoch 110/200\n",
      "4/4 [==============================] - 0s 10ms/step - loss: 0.3554 - categorical_accuracy: 0.9238 - val_loss: 0.3714 - val_categorical_accuracy: 0.9556\n",
      "Epoch 111/200\n",
      "4/4 [==============================] - 0s 10ms/step - loss: 0.3538 - categorical_accuracy: 0.9524 - val_loss: 0.3581 - val_categorical_accuracy: 0.9778\n",
      "Epoch 112/200\n",
      "4/4 [==============================] - 0s 10ms/step - loss: 0.3556 - categorical_accuracy: 0.9524 - val_loss: 0.3542 - val_categorical_accuracy: 0.9778\n",
      "Epoch 113/200\n",
      "4/4 [==============================] - 0s 9ms/step - loss: 0.3528 - categorical_accuracy: 0.9429 - val_loss: 0.3601 - val_categorical_accuracy: 0.9556\n",
      "Epoch 114/200\n",
      "4/4 [==============================] - 0s 10ms/step - loss: 0.3463 - categorical_accuracy: 0.9524 - val_loss: 0.3685 - val_categorical_accuracy: 0.9333\n",
      "Epoch 115/200\n",
      "4/4 [==============================] - 0s 10ms/step - loss: 0.3458 - categorical_accuracy: 0.9238 - val_loss: 0.3857 - val_categorical_accuracy: 0.8000\n",
      "Epoch 116/200\n",
      "4/4 [==============================] - 0s 9ms/step - loss: 0.3482 - categorical_accuracy: 0.8952 - val_loss: 0.3784 - val_categorical_accuracy: 0.8889\n",
      "Epoch 117/200\n",
      "4/4 [==============================] - 0s 9ms/step - loss: 0.3443 - categorical_accuracy: 0.9333 - val_loss: 0.3583 - val_categorical_accuracy: 0.9556\n",
      "Epoch 118/200\n",
      "4/4 [==============================] - 0s 9ms/step - loss: 0.3437 - categorical_accuracy: 0.9524 - val_loss: 0.3474 - val_categorical_accuracy: 0.9778\n",
      "Epoch 119/200\n",
      "4/4 [==============================] - 0s 9ms/step - loss: 0.3385 - categorical_accuracy: 0.9429 - val_loss: 0.3538 - val_categorical_accuracy: 0.9556\n",
      "Epoch 120/200\n",
      "4/4 [==============================] - 0s 9ms/step - loss: 0.3380 - categorical_accuracy: 0.9333 - val_loss: 0.3650 - val_categorical_accuracy: 0.9111\n",
      "Epoch 121/200\n",
      "4/4 [==============================] - 0s 9ms/step - loss: 0.3356 - categorical_accuracy: 0.9238 - val_loss: 0.3632 - val_categorical_accuracy: 0.9111\n",
      "Epoch 122/200\n",
      "4/4 [==============================] - 0s 9ms/step - loss: 0.3341 - categorical_accuracy: 0.9333 - val_loss: 0.3557 - val_categorical_accuracy: 0.9556\n",
      "Epoch 123/200\n",
      "4/4 [==============================] - 0s 9ms/step - loss: 0.3311 - categorical_accuracy: 0.9429 - val_loss: 0.3560 - val_categorical_accuracy: 0.9556\n",
      "Epoch 124/200\n",
      "4/4 [==============================] - 0s 9ms/step - loss: 0.3306 - categorical_accuracy: 0.9429 - val_loss: 0.3489 - val_categorical_accuracy: 0.9556\n",
      "Epoch 125/200\n",
      "4/4 [==============================] - 0s 9ms/step - loss: 0.3273 - categorical_accuracy: 0.9524 - val_loss: 0.3432 - val_categorical_accuracy: 0.9778\n",
      "Epoch 126/200\n",
      "4/4 [==============================] - 0s 9ms/step - loss: 0.3261 - categorical_accuracy: 0.9524 - val_loss: 0.3342 - val_categorical_accuracy: 0.9778\n",
      "Epoch 127/200\n",
      "4/4 [==============================] - 0s 9ms/step - loss: 0.3257 - categorical_accuracy: 0.9524 - val_loss: 0.3356 - val_categorical_accuracy: 0.9778\n",
      "Epoch 128/200\n",
      "4/4 [==============================] - 0s 10ms/step - loss: 0.3240 - categorical_accuracy: 0.9619 - val_loss: 0.3379 - val_categorical_accuracy: 0.9778\n",
      "Epoch 129/200\n",
      "4/4 [==============================] - 0s 9ms/step - loss: 0.3204 - categorical_accuracy: 0.9619 - val_loss: 0.3318 - val_categorical_accuracy: 0.9778\n",
      "Epoch 130/200\n",
      "4/4 [==============================] - 0s 10ms/step - loss: 0.3204 - categorical_accuracy: 0.9524 - val_loss: 0.3275 - val_categorical_accuracy: 0.9778\n",
      "Epoch 131/200\n",
      "4/4 [==============================] - 0s 9ms/step - loss: 0.3183 - categorical_accuracy: 0.9619 - val_loss: 0.3328 - val_categorical_accuracy: 0.9778\n",
      "Epoch 132/200\n",
      "4/4 [==============================] - 0s 9ms/step - loss: 0.3155 - categorical_accuracy: 0.9619 - val_loss: 0.3368 - val_categorical_accuracy: 0.9556\n",
      "Epoch 133/200\n",
      "4/4 [==============================] - 0s 9ms/step - loss: 0.3145 - categorical_accuracy: 0.9429 - val_loss: 0.3442 - val_categorical_accuracy: 0.9333\n",
      "Epoch 134/200\n",
      "4/4 [==============================] - 0s 10ms/step - loss: 0.3143 - categorical_accuracy: 0.9524 - val_loss: 0.3361 - val_categorical_accuracy: 0.9556\n",
      "Epoch 135/200\n",
      "4/4 [==============================] - 0s 9ms/step - loss: 0.3112 - categorical_accuracy: 0.9524 - val_loss: 0.3323 - val_categorical_accuracy: 0.9556\n",
      "Epoch 136/200\n",
      "4/4 [==============================] - 0s 9ms/step - loss: 0.3093 - categorical_accuracy: 0.9619 - val_loss: 0.3275 - val_categorical_accuracy: 0.9778\n",
      "Epoch 137/200\n",
      "4/4 [==============================] - 0s 9ms/step - loss: 0.3073 - categorical_accuracy: 0.9619 - val_loss: 0.3295 - val_categorical_accuracy: 0.9778\n",
      "Epoch 138/200\n",
      "4/4 [==============================] - 0s 10ms/step - loss: 0.3075 - categorical_accuracy: 0.9619 - val_loss: 0.3251 - val_categorical_accuracy: 0.9778\n",
      "Epoch 139/200\n",
      "4/4 [==============================] - 0s 9ms/step - loss: 0.3054 - categorical_accuracy: 0.9619 - val_loss: 0.3258 - val_categorical_accuracy: 0.9778\n",
      "Epoch 140/200\n",
      "4/4 [==============================] - 0s 10ms/step - loss: 0.3057 - categorical_accuracy: 0.9619 - val_loss: 0.3396 - val_categorical_accuracy: 0.9333\n",
      "Epoch 141/200\n",
      "4/4 [==============================] - 0s 9ms/step - loss: 0.3053 - categorical_accuracy: 0.9429 - val_loss: 0.3413 - val_categorical_accuracy: 0.9111\n",
      "Epoch 142/200\n",
      "4/4 [==============================] - 0s 10ms/step - loss: 0.3042 - categorical_accuracy: 0.9429 - val_loss: 0.3323 - val_categorical_accuracy: 0.9556\n",
      "Epoch 143/200\n",
      "4/4 [==============================] - 0s 9ms/step - loss: 0.3004 - categorical_accuracy: 0.9524 - val_loss: 0.3236 - val_categorical_accuracy: 0.9778\n",
      "Epoch 144/200\n",
      "4/4 [==============================] - 0s 9ms/step - loss: 0.2977 - categorical_accuracy: 0.9619 - val_loss: 0.3141 - val_categorical_accuracy: 0.9778\n",
      "Epoch 145/200\n",
      "4/4 [==============================] - 0s 9ms/step - loss: 0.2967 - categorical_accuracy: 0.9619 - val_loss: 0.3078 - val_categorical_accuracy: 0.9778\n",
      "Epoch 146/200\n",
      "4/4 [==============================] - 0s 9ms/step - loss: 0.2964 - categorical_accuracy: 0.9524 - val_loss: 0.3052 - val_categorical_accuracy: 0.9778\n",
      "Epoch 147/200\n",
      "4/4 [==============================] - 0s 10ms/step - loss: 0.2949 - categorical_accuracy: 0.9524 - val_loss: 0.3070 - val_categorical_accuracy: 0.9778\n",
      "Epoch 148/200\n",
      "4/4 [==============================] - 0s 9ms/step - loss: 0.2932 - categorical_accuracy: 0.9524 - val_loss: 0.3035 - val_categorical_accuracy: 0.9778\n",
      "Epoch 149/200\n",
      "4/4 [==============================] - 0s 10ms/step - loss: 0.2939 - categorical_accuracy: 0.9429 - val_loss: 0.2985 - val_categorical_accuracy: 1.0000\n",
      "Epoch 150/200\n"
     ]
    },
    {
     "name": "stdout",
     "output_type": "stream",
     "text": [
      "4/4 [==============================] - 0s 9ms/step - loss: 0.2922 - categorical_accuracy: 0.9429 - val_loss: 0.3014 - val_categorical_accuracy: 0.9778\n",
      "Epoch 151/200\n",
      "4/4 [==============================] - 0s 9ms/step - loss: 0.2886 - categorical_accuracy: 0.9524 - val_loss: 0.3029 - val_categorical_accuracy: 0.9778\n",
      "Epoch 152/200\n",
      "4/4 [==============================] - 0s 9ms/step - loss: 0.2867 - categorical_accuracy: 0.9619 - val_loss: 0.3053 - val_categorical_accuracy: 0.9778\n",
      "Epoch 153/200\n",
      "4/4 [==============================] - 0s 10ms/step - loss: 0.2847 - categorical_accuracy: 0.9619 - val_loss: 0.3067 - val_categorical_accuracy: 0.9778\n",
      "Epoch 154/200\n",
      "4/4 [==============================] - 0s 9ms/step - loss: 0.2837 - categorical_accuracy: 0.9619 - val_loss: 0.3069 - val_categorical_accuracy: 0.9778\n",
      "Epoch 155/200\n",
      "4/4 [==============================] - 0s 9ms/step - loss: 0.2829 - categorical_accuracy: 0.9619 - val_loss: 0.3053 - val_categorical_accuracy: 0.9778\n",
      "Epoch 156/200\n",
      "4/4 [==============================] - 0s 9ms/step - loss: 0.2812 - categorical_accuracy: 0.9619 - val_loss: 0.3003 - val_categorical_accuracy: 0.9778\n",
      "Epoch 157/200\n",
      "4/4 [==============================] - 0s 9ms/step - loss: 0.2796 - categorical_accuracy: 0.9619 - val_loss: 0.2926 - val_categorical_accuracy: 0.9778\n",
      "Epoch 158/200\n",
      "4/4 [==============================] - 0s 9ms/step - loss: 0.2794 - categorical_accuracy: 0.9524 - val_loss: 0.2920 - val_categorical_accuracy: 0.9778\n",
      "Epoch 159/200\n",
      "4/4 [==============================] - 0s 9ms/step - loss: 0.2781 - categorical_accuracy: 0.9524 - val_loss: 0.2918 - val_categorical_accuracy: 0.9778\n",
      "Epoch 160/200\n",
      "4/4 [==============================] - 0s 9ms/step - loss: 0.2771 - categorical_accuracy: 0.9524 - val_loss: 0.2913 - val_categorical_accuracy: 0.9778\n",
      "Epoch 161/200\n",
      "4/4 [==============================] - 0s 9ms/step - loss: 0.2747 - categorical_accuracy: 0.9524 - val_loss: 0.2970 - val_categorical_accuracy: 0.9778\n",
      "Epoch 162/200\n",
      "4/4 [==============================] - 0s 9ms/step - loss: 0.2735 - categorical_accuracy: 0.9619 - val_loss: 0.3014 - val_categorical_accuracy: 0.9778\n",
      "Epoch 163/200\n",
      "4/4 [==============================] - 0s 9ms/step - loss: 0.2745 - categorical_accuracy: 0.9619 - val_loss: 0.2974 - val_categorical_accuracy: 0.9778\n",
      "Epoch 164/200\n",
      "4/4 [==============================] - 0s 9ms/step - loss: 0.2734 - categorical_accuracy: 0.9619 - val_loss: 0.3001 - val_categorical_accuracy: 0.9778\n",
      "Epoch 165/200\n",
      "4/4 [==============================] - 0s 9ms/step - loss: 0.2695 - categorical_accuracy: 0.9619 - val_loss: 0.2875 - val_categorical_accuracy: 0.9778\n",
      "Epoch 166/200\n",
      "4/4 [==============================] - 0s 9ms/step - loss: 0.2711 - categorical_accuracy: 0.9619 - val_loss: 0.2803 - val_categorical_accuracy: 0.9778\n",
      "Epoch 167/200\n",
      "4/4 [==============================] - 0s 9ms/step - loss: 0.2687 - categorical_accuracy: 0.9524 - val_loss: 0.2850 - val_categorical_accuracy: 0.9778\n",
      "Epoch 168/200\n",
      "4/4 [==============================] - 0s 9ms/step - loss: 0.2663 - categorical_accuracy: 0.9619 - val_loss: 0.2882 - val_categorical_accuracy: 0.9778\n",
      "Epoch 169/200\n",
      "4/4 [==============================] - 0s 9ms/step - loss: 0.2657 - categorical_accuracy: 0.9619 - val_loss: 0.2918 - val_categorical_accuracy: 0.9778\n",
      "Epoch 170/200\n",
      "4/4 [==============================] - 0s 9ms/step - loss: 0.2647 - categorical_accuracy: 0.9619 - val_loss: 0.2844 - val_categorical_accuracy: 0.9778\n",
      "Epoch 171/200\n",
      "4/4 [==============================] - 0s 9ms/step - loss: 0.2628 - categorical_accuracy: 0.9619 - val_loss: 0.2809 - val_categorical_accuracy: 0.9778\n",
      "Epoch 172/200\n",
      "4/4 [==============================] - 0s 9ms/step - loss: 0.2626 - categorical_accuracy: 0.9524 - val_loss: 0.2781 - val_categorical_accuracy: 0.9778\n",
      "Epoch 173/200\n",
      "4/4 [==============================] - 0s 9ms/step - loss: 0.2612 - categorical_accuracy: 0.9619 - val_loss: 0.2782 - val_categorical_accuracy: 0.9778\n",
      "Epoch 174/200\n",
      "4/4 [==============================] - 0s 9ms/step - loss: 0.2597 - categorical_accuracy: 0.9524 - val_loss: 0.2752 - val_categorical_accuracy: 0.9778\n",
      "Epoch 175/200\n",
      "4/4 [==============================] - 0s 9ms/step - loss: 0.2592 - categorical_accuracy: 0.9524 - val_loss: 0.2734 - val_categorical_accuracy: 0.9778\n",
      "Epoch 176/200\n",
      "4/4 [==============================] - 0s 9ms/step - loss: 0.2582 - categorical_accuracy: 0.9524 - val_loss: 0.2755 - val_categorical_accuracy: 0.9778\n",
      "Epoch 177/200\n",
      "4/4 [==============================] - 0s 9ms/step - loss: 0.2573 - categorical_accuracy: 0.9524 - val_loss: 0.2792 - val_categorical_accuracy: 0.9778\n",
      "Epoch 178/200\n",
      "4/4 [==============================] - 0s 10ms/step - loss: 0.2557 - categorical_accuracy: 0.9619 - val_loss: 0.2830 - val_categorical_accuracy: 0.9778\n",
      "Epoch 179/200\n",
      "4/4 [==============================] - 0s 9ms/step - loss: 0.2557 - categorical_accuracy: 0.9619 - val_loss: 0.2858 - val_categorical_accuracy: 0.9778\n",
      "Epoch 180/200\n",
      "4/4 [==============================] - 0s 10ms/step - loss: 0.2559 - categorical_accuracy: 0.9619 - val_loss: 0.2844 - val_categorical_accuracy: 0.9778\n",
      "Epoch 181/200\n",
      "4/4 [==============================] - 0s 10ms/step - loss: 0.2533 - categorical_accuracy: 0.9619 - val_loss: 0.2732 - val_categorical_accuracy: 0.9778\n",
      "Epoch 182/200\n",
      "4/4 [==============================] - 0s 9ms/step - loss: 0.2513 - categorical_accuracy: 0.9524 - val_loss: 0.2654 - val_categorical_accuracy: 0.9778\n",
      "Epoch 183/200\n",
      "4/4 [==============================] - 0s 9ms/step - loss: 0.2517 - categorical_accuracy: 0.9524 - val_loss: 0.2618 - val_categorical_accuracy: 1.0000\n",
      "Epoch 184/200\n",
      "4/4 [==============================] - 0s 9ms/step - loss: 0.2508 - categorical_accuracy: 0.9524 - val_loss: 0.2639 - val_categorical_accuracy: 0.9778\n",
      "Epoch 185/200\n",
      "4/4 [==============================] - 0s 9ms/step - loss: 0.2507 - categorical_accuracy: 0.9524 - val_loss: 0.2712 - val_categorical_accuracy: 0.9778\n",
      "Epoch 186/200\n",
      "4/4 [==============================] - 0s 9ms/step - loss: 0.2475 - categorical_accuracy: 0.9619 - val_loss: 0.2701 - val_categorical_accuracy: 0.9778\n",
      "Epoch 187/200\n",
      "4/4 [==============================] - 0s 9ms/step - loss: 0.2468 - categorical_accuracy: 0.9619 - val_loss: 0.2700 - val_categorical_accuracy: 0.9778\n",
      "Epoch 188/200\n",
      "4/4 [==============================] - 0s 9ms/step - loss: 0.2455 - categorical_accuracy: 0.9619 - val_loss: 0.2687 - val_categorical_accuracy: 0.9778\n",
      "Epoch 189/200\n",
      "4/4 [==============================] - 0s 10ms/step - loss: 0.2445 - categorical_accuracy: 0.9619 - val_loss: 0.2645 - val_categorical_accuracy: 0.9778\n",
      "Epoch 190/200\n",
      "4/4 [==============================] - 0s 10ms/step - loss: 0.2436 - categorical_accuracy: 0.9619 - val_loss: 0.2631 - val_categorical_accuracy: 0.9778\n",
      "Epoch 191/200\n",
      "4/4 [==============================] - 0s 9ms/step - loss: 0.2423 - categorical_accuracy: 0.9619 - val_loss: 0.2646 - val_categorical_accuracy: 0.9778\n",
      "Epoch 192/200\n",
      "4/4 [==============================] - 0s 9ms/step - loss: 0.2423 - categorical_accuracy: 0.9619 - val_loss: 0.2669 - val_categorical_accuracy: 0.9778\n",
      "Epoch 193/200\n",
      "4/4 [==============================] - 0s 9ms/step - loss: 0.2430 - categorical_accuracy: 0.9619 - val_loss: 0.2667 - val_categorical_accuracy: 0.9778\n",
      "Epoch 194/200\n",
      "4/4 [==============================] - 0s 10ms/step - loss: 0.2391 - categorical_accuracy: 0.9619 - val_loss: 0.2566 - val_categorical_accuracy: 0.9778\n",
      "Epoch 195/200\n",
      "4/4 [==============================] - 0s 9ms/step - loss: 0.2388 - categorical_accuracy: 0.9619 - val_loss: 0.2488 - val_categorical_accuracy: 1.0000\n",
      "Epoch 196/200\n",
      "4/4 [==============================] - 0s 9ms/step - loss: 0.2407 - categorical_accuracy: 0.9524 - val_loss: 0.2470 - val_categorical_accuracy: 1.0000\n",
      "Epoch 197/200\n",
      "4/4 [==============================] - 0s 9ms/step - loss: 0.2409 - categorical_accuracy: 0.9524 - val_loss: 0.2472 - val_categorical_accuracy: 1.0000\n",
      "Epoch 198/200\n",
      "4/4 [==============================] - 0s 9ms/step - loss: 0.2373 - categorical_accuracy: 0.9524 - val_loss: 0.2537 - val_categorical_accuracy: 0.9778\n",
      "Epoch 199/200\n",
      "4/4 [==============================] - 0s 9ms/step - loss: 0.2367 - categorical_accuracy: 0.9619 - val_loss: 0.2629 - val_categorical_accuracy: 0.9778\n"
     ]
    },
    {
     "name": "stdout",
     "output_type": "stream",
     "text": [
      "Epoch 200/200\n",
      "4/4 [==============================] - 0s 9ms/step - loss: 0.2351 - categorical_accuracy: 0.9619 - val_loss: 0.2621 - val_categorical_accuracy: 0.9778\n"
     ]
    },
    {
     "data": {
      "text/plain": [
       "<keras.callbacks.History at 0x7f9bc47e3d60>"
      ]
     },
     "execution_count": 15,
     "metadata": {},
     "output_type": "execute_result"
    }
   ],
   "source": [
    "lr_tf.fit(x=iris_train[iris_from_file[\"feature_names\"]].to_numpy(), \n",
    "          y=iris_train[[\"0\", \"1\", \"2\"]].to_numpy(), \n",
    "          validation_data=(iris_test[iris_from_file[\"feature_names\"]],\n",
    "                           iris_test[[\"0\", \"1\", \"2\"]]), \n",
    "          epochs=200)"
   ]
  },
  {
   "cell_type": "code",
   "execution_count": 16,
   "id": "c92b06c3",
   "metadata": {},
   "outputs": [
    {
     "name": "stdout",
     "output_type": "stream",
     "text": [
      "4/4 [==============================] - 0s 1ms/step\n",
      "2/2 [==============================] - 0s 2ms/step\n"
     ]
    }
   ],
   "source": [
    "import numpy as np\n",
    "\n",
    "predict_values_train = lr_tf.predict(iris_train[iris_from_file[\"feature_names\"]])\n",
    "predict_train = np.argmax(predict_values_train, axis=1)\n",
    "\n",
    "predict_values_test = lr_tf.predict(iris_test[iris_from_file[\"feature_names\"]])\n",
    "predict_test = np.argmax(predict_values_test, axis=1)"
   ]
  },
  {
   "cell_type": "code",
   "execution_count": 17,
   "id": "89172d23",
   "metadata": {},
   "outputs": [
    {
     "data": {
      "text/plain": [
       "array([[36,  0,  0],\n",
       "       [ 0, 28,  4],\n",
       "       [ 0,  0, 37]])"
      ]
     },
     "execution_count": 17,
     "metadata": {},
     "output_type": "execute_result"
    }
   ],
   "source": [
    "confusion_matrix(iris_train[\"target\"], predict_train)"
   ]
  },
  {
   "cell_type": "code",
   "execution_count": 18,
   "id": "b9ea0ffc",
   "metadata": {},
   "outputs": [
    {
     "data": {
      "text/plain": [
       "array([[14,  0,  0],\n",
       "       [ 0, 17,  1],\n",
       "       [ 0,  0, 13]])"
      ]
     },
     "execution_count": 18,
     "metadata": {},
     "output_type": "execute_result"
    }
   ],
   "source": [
    "confusion_matrix(iris_test[\"target\"], predict_test)"
   ]
  },
  {
   "cell_type": "code",
   "execution_count": null,
   "id": "b2a9ff45",
   "metadata": {},
   "outputs": [],
   "source": []
  }
 ],
 "metadata": {
  "kernelspec": {
   "display_name": "Python 3 (ipykernel)",
   "language": "python",
   "name": "python3"
  },
  "language_info": {
   "codemirror_mode": {
    "name": "ipython",
    "version": 3
   },
   "file_extension": ".py",
   "mimetype": "text/x-python",
   "name": "python",
   "nbconvert_exporter": "python",
   "pygments_lexer": "ipython3",
   "version": "3.9.7"
  }
 },
 "nbformat": 4,
 "nbformat_minor": 5
}
