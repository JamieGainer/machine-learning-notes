{
 "cells": [
  {
   "cell_type": "markdown",
   "id": "cfe439f8",
   "metadata": {},
   "source": [
    "## Prepare Iris Dataset"
   ]
  },
  {
   "cell_type": "code",
   "execution_count": 1,
   "id": "776b7fcf",
   "metadata": {},
   "outputs": [],
   "source": [
    "import pandas as pd\n",
    "from sklearn import datasets\n",
    "from sklearn.model_selection import train_test_split"
   ]
  },
  {
   "cell_type": "code",
   "execution_count": 2,
   "id": "ee09b369",
   "metadata": {},
   "outputs": [],
   "source": [
    "iris = pd.DataFrame()\n",
    "iris_from_file = datasets.load_iris()\n",
    "\n",
    "for column_name, row in zip(iris_from_file['feature_names'], iris_from_file['data'].T):\n",
    "    iris[column_name] = row\n",
    "iris[\"target\"] = iris_from_file[\"target\"]"
   ]
  },
  {
   "cell_type": "code",
   "execution_count": 3,
   "id": "18a856d0",
   "metadata": {},
   "outputs": [],
   "source": [
    "iris_train, iris_test = train_test_split(iris, train_size=0.7, random_state=1)"
   ]
  },
  {
   "cell_type": "markdown",
   "id": "2b153604",
   "metadata": {},
   "source": [
    "## SVM-- Default Parameters"
   ]
  },
  {
   "cell_type": "code",
   "execution_count": 4,
   "id": "c021b680",
   "metadata": {},
   "outputs": [],
   "source": [
    "from sklearn.svm import SVC"
   ]
  },
  {
   "cell_type": "code",
   "execution_count": 5,
   "id": "9e42abac",
   "metadata": {},
   "outputs": [
    {
     "data": {
      "text/plain": [
       "SVC()"
      ]
     },
     "execution_count": 5,
     "metadata": {},
     "output_type": "execute_result"
    }
   ],
   "source": [
    "svc_1 = SVC()\n",
    "svc_1.fit(iris_train[iris_from_file[\"feature_names\"]], iris_train[\"target\"])"
   ]
  },
  {
   "cell_type": "code",
   "execution_count": 6,
   "id": "d1864e61",
   "metadata": {},
   "outputs": [],
   "source": [
    "from sklearn.metrics import confusion_matrix"
   ]
  },
  {
   "cell_type": "code",
   "execution_count": 7,
   "id": "3a285640",
   "metadata": {},
   "outputs": [
    {
     "data": {
      "text/plain": [
       "array([[36,  0,  0],\n",
       "       [ 0, 29,  3],\n",
       "       [ 0,  1, 36]])"
      ]
     },
     "execution_count": 7,
     "metadata": {},
     "output_type": "execute_result"
    }
   ],
   "source": [
    "confusion_matrix(iris_train[\"target\"], svc_1.predict(iris_train[iris_from_file[\"feature_names\"]]))"
   ]
  },
  {
   "cell_type": "code",
   "execution_count": 8,
   "id": "9a4894e9",
   "metadata": {},
   "outputs": [
    {
     "data": {
      "text/plain": [
       "array([[14,  0,  0],\n",
       "       [ 0, 17,  1],\n",
       "       [ 0,  0, 13]])"
      ]
     },
     "execution_count": 8,
     "metadata": {},
     "output_type": "execute_result"
    }
   ],
   "source": [
    "confusion_matrix(iris_test[\"target\"], svc_1.predict(iris_test[iris_from_file[\"feature_names\"]]))"
   ]
  },
  {
   "cell_type": "markdown",
   "id": "bf6ab775",
   "metadata": {},
   "source": [
    "## SVM-- Experimenting with C"
   ]
  },
  {
   "cell_type": "code",
   "execution_count": 10,
   "id": "3fc5cd39",
   "metadata": {},
   "outputs": [
    {
     "data": {
      "text/plain": [
       "SVC(C=100.0)"
      ]
     },
     "execution_count": 10,
     "metadata": {},
     "output_type": "execute_result"
    }
   ],
   "source": [
    "svc_2 = SVC(C=0.1)\n",
    "svc_2.fit(iris_train[iris_from_file[\"feature_names\"]], iris_train[\"target\"])\n",
    "\n",
    "svc_3 = SVC(C=0.01)\n",
    "svc_3.fit(iris_train[iris_from_file[\"feature_names\"]], iris_train[\"target\"])\n",
    "\n",
    "svc_4 = SVC(C=10.0)\n",
    "svc_4.fit(iris_train[iris_from_file[\"feature_names\"]], iris_train[\"target\"])\n",
    "\n",
    "svc_5 = SVC(C=100.0)\n",
    "svc_5.fit(iris_train[iris_from_file[\"feature_names\"]], iris_train[\"target\"])"
   ]
  },
  {
   "cell_type": "markdown",
   "id": "e354c17d",
   "metadata": {},
   "source": [
    "### Results on Train Data"
   ]
  },
  {
   "cell_type": "code",
   "execution_count": 14,
   "id": "74d07cc5",
   "metadata": {},
   "outputs": [
    {
     "data": {
      "text/plain": [
       "[('C =',\n",
       "  0.01,\n",
       "  array([[ 0,  0, 36],\n",
       "         [ 0,  0, 32],\n",
       "         [ 0,  0, 37]])),\n",
       " ('C =',\n",
       "  0.1,\n",
       "  array([[36,  0,  0],\n",
       "         [ 0, 19, 13],\n",
       "         [ 0,  1, 36]])),\n",
       " ('C =',\n",
       "  1,\n",
       "  array([[36,  0,  0],\n",
       "         [ 0, 29,  3],\n",
       "         [ 0,  1, 36]])),\n",
       " ('C =',\n",
       "  10,\n",
       "  array([[36,  0,  0],\n",
       "         [ 0, 30,  2],\n",
       "         [ 0,  0, 37]])),\n",
       " ('C =',\n",
       "  100,\n",
       "  array([[36,  0,  0],\n",
       "         [ 0, 30,  2],\n",
       "         [ 0,  0, 37]]))]"
      ]
     },
     "execution_count": 14,
     "metadata": {},
     "output_type": "execute_result"
    }
   ],
   "source": [
    "[(\"C =\", 10**(i-2), cm) for i, cm in enumerate([confusion_matrix(iris_train[\"target\"], svc.predict(iris_train[iris_from_file[\"feature_names\"]]))\n",
    " for svc in [svc_3, svc_2, svc_1, svc_4, svc_5]])]"
   ]
  },
  {
   "cell_type": "markdown",
   "id": "fc759456",
   "metadata": {},
   "source": [
    "### Results on Test Data"
   ]
  },
  {
   "cell_type": "code",
   "execution_count": 15,
   "id": "d7c3dd7f",
   "metadata": {},
   "outputs": [
    {
     "data": {
      "text/plain": [
       "[('C =',\n",
       "  0.01,\n",
       "  array([[ 0,  0, 14],\n",
       "         [ 0,  0, 18],\n",
       "         [ 0,  0, 13]])),\n",
       " ('C =',\n",
       "  0.1,\n",
       "  array([[14,  0,  0],\n",
       "         [ 0,  7, 11],\n",
       "         [ 0,  0, 13]])),\n",
       " ('C =',\n",
       "  1,\n",
       "  array([[14,  0,  0],\n",
       "         [ 0, 17,  1],\n",
       "         [ 0,  0, 13]])),\n",
       " ('C =',\n",
       "  10,\n",
       "  array([[14,  0,  0],\n",
       "         [ 0, 17,  1],\n",
       "         [ 0,  0, 13]])),\n",
       " ('C =',\n",
       "  100,\n",
       "  array([[14,  0,  0],\n",
       "         [ 0, 17,  1],\n",
       "         [ 0,  0, 13]]))]"
      ]
     },
     "execution_count": 15,
     "metadata": {},
     "output_type": "execute_result"
    }
   ],
   "source": [
    "[(\"C =\", 10**(i-2), cm) for i, cm in enumerate([confusion_matrix(iris_test[\"target\"], svc.predict(iris_test[iris_from_file[\"feature_names\"]]))\n",
    " for svc in [svc_3, svc_2, svc_1, svc_4, svc_5]])]"
   ]
  },
  {
   "cell_type": "code",
   "execution_count": null,
   "id": "0c567693",
   "metadata": {},
   "outputs": [],
   "source": []
  }
 ],
 "metadata": {
  "kernelspec": {
   "display_name": "Python 3 (ipykernel)",
   "language": "python",
   "name": "python3"
  },
  "language_info": {
   "codemirror_mode": {
    "name": "ipython",
    "version": 3
   },
   "file_extension": ".py",
   "mimetype": "text/x-python",
   "name": "python",
   "nbconvert_exporter": "python",
   "pygments_lexer": "ipython3",
   "version": "3.9.7"
  }
 },
 "nbformat": 4,
 "nbformat_minor": 5
}
