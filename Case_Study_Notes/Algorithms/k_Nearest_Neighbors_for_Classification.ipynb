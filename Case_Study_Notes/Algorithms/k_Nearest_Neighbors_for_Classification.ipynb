{
 "cells": [
  {
   "cell_type": "markdown",
   "id": "cfe439f8",
   "metadata": {},
   "source": [
    "## Prepare Iris Dataset"
   ]
  },
  {
   "cell_type": "code",
   "execution_count": 1,
   "id": "776b7fcf",
   "metadata": {},
   "outputs": [],
   "source": [
    "import pandas as pd\n",
    "from sklearn import datasets\n",
    "from sklearn.model_selection import train_test_split"
   ]
  },
  {
   "cell_type": "code",
   "execution_count": 2,
   "id": "ee09b369",
   "metadata": {},
   "outputs": [],
   "source": [
    "iris = pd.DataFrame()\n",
    "iris_from_file = datasets.load_iris()\n",
    "\n",
    "for column_name, row in zip(iris_from_file['feature_names'], iris_from_file['data'].T):\n",
    "    iris[column_name] = row\n",
    "iris[\"target\"] = iris_from_file[\"target\"]"
   ]
  },
  {
   "cell_type": "code",
   "execution_count": 3,
   "id": "18a856d0",
   "metadata": {},
   "outputs": [],
   "source": [
    "iris_train, iris_test = train_test_split(iris, train_size=0.7, random_state=1)"
   ]
  },
  {
   "cell_type": "markdown",
   "id": "2b153604",
   "metadata": {},
   "source": [
    "## k-Nearest Neighbors--  Default Parameters"
   ]
  },
  {
   "cell_type": "code",
   "execution_count": 4,
   "id": "c021b680",
   "metadata": {},
   "outputs": [],
   "source": [
    "from sklearn.neighbors import KNeighborsClassifier"
   ]
  },
  {
   "cell_type": "code",
   "execution_count": 6,
   "id": "9e42abac",
   "metadata": {},
   "outputs": [
    {
     "data": {
      "text/plain": [
       "KNeighborsClassifier()"
      ]
     },
     "execution_count": 6,
     "metadata": {},
     "output_type": "execute_result"
    }
   ],
   "source": [
    "knn = KNeighborsClassifier()\n",
    "knn.fit(iris_train[iris_from_file[\"feature_names\"]], iris_train[\"target\"])"
   ]
  },
  {
   "cell_type": "code",
   "execution_count": 7,
   "id": "d1864e61",
   "metadata": {},
   "outputs": [],
   "source": [
    "from sklearn.metrics import confusion_matrix"
   ]
  },
  {
   "cell_type": "code",
   "execution_count": 8,
   "id": "3a285640",
   "metadata": {},
   "outputs": [
    {
     "data": {
      "text/plain": [
       "array([[36,  0,  0],\n",
       "       [ 0, 28,  4],\n",
       "       [ 0,  1, 36]])"
      ]
     },
     "execution_count": 8,
     "metadata": {},
     "output_type": "execute_result"
    }
   ],
   "source": [
    "confusion_matrix(iris_train[\"target\"], knn.predict(iris_train[iris_from_file[\"feature_names\"]]))"
   ]
  },
  {
   "cell_type": "code",
   "execution_count": 9,
   "id": "9a4894e9",
   "metadata": {},
   "outputs": [
    {
     "data": {
      "text/plain": [
       "array([[14,  0,  0],\n",
       "       [ 0, 18,  0],\n",
       "       [ 0,  1, 12]])"
      ]
     },
     "execution_count": 9,
     "metadata": {},
     "output_type": "execute_result"
    }
   ],
   "source": [
    "confusion_matrix(iris_test[\"target\"], knn.predict(iris_test[iris_from_file[\"feature_names\"]]))"
   ]
  },
  {
   "cell_type": "markdown",
   "id": "40058446",
   "metadata": {},
   "source": [
    "## k-Nearest Neighbors-- Different Choices of Number of Neighbors"
   ]
  },
  {
   "cell_type": "code",
   "execution_count": 13,
   "id": "e5944735",
   "metadata": {},
   "outputs": [],
   "source": [
    "knn_list = ([KNeighborsClassifier(n_neighbors=1), KNeighborsClassifier(n_neighbors=3)] + \n",
    "            [knn] + [KNeighborsClassifier(n_neighbors=7), KNeighborsClassifier(n_neighbors=9)])\n",
    "\n",
    "fitted_knn_list = [kn.fit(iris_train[iris_from_file[\"feature_names\"]], iris_train[\"target\"])\n",
    "                   for kn in knn_list]\n",
    "\n",
    "pred_train_list = [fkn.predict(iris_train[iris_from_file[\"feature_names\"]])\n",
    "                   for fkn in fitted_knn_list]\n",
    "\n",
    "pred_test_list = [fkn.predict(iris_test[iris_from_file[\"feature_names\"]])\n",
    "                   for fkn in fitted_knn_list]"
   ]
  },
  {
   "cell_type": "code",
   "execution_count": 17,
   "id": "9e6a39f6",
   "metadata": {},
   "outputs": [
    {
     "name": "stdout",
     "output_type": "stream",
     "text": [
      "1 \n",
      "\n",
      " [[36  0  0]\n",
      " [ 0 32  0]\n",
      " [ 0  0 37]] \n",
      "\n",
      " [[14  0  0]\n",
      " [ 0 18  0]\n",
      " [ 0  1 12]] \n",
      "\n",
      "3 \n",
      "\n",
      " [[36  0  0]\n",
      " [ 0 29  3]\n",
      " [ 0  2 35]] \n",
      "\n",
      " [[14  0  0]\n",
      " [ 0 18  0]\n",
      " [ 0  1 12]] \n",
      "\n",
      "5 \n",
      "\n",
      " [[36  0  0]\n",
      " [ 0 28  4]\n",
      " [ 0  1 36]] \n",
      "\n",
      " [[14  0  0]\n",
      " [ 0 18  0]\n",
      " [ 0  1 12]] \n",
      "\n",
      "7 \n",
      "\n",
      " [[36  0  0]\n",
      " [ 0 29  3]\n",
      " [ 0  1 36]] \n",
      "\n",
      " [[14  0  0]\n",
      " [ 0 17  1]\n",
      " [ 0  0 13]] \n",
      "\n",
      "9 \n",
      "\n",
      " [[36  0  0]\n",
      " [ 0 30  2]\n",
      " [ 0  1 36]] \n",
      "\n",
      " [[14  0  0]\n",
      " [ 0 17  1]\n",
      " [ 0  0 13]] \n",
      "\n"
     ]
    }
   ],
   "source": [
    "for i, (pred_train, pred_test) in enumerate(zip(pred_train_list, pred_test_list)):\n",
    "    print(2 * i + 1, \"\\n\\n\", \n",
    "          confusion_matrix(iris_train[\"target\"], pred_train), \"\\n\\n\",\n",
    "          confusion_matrix(iris_test[\"target\"], pred_test), \"\\n\")"
   ]
  },
  {
   "cell_type": "code",
   "execution_count": null,
   "id": "04d228ac",
   "metadata": {},
   "outputs": [],
   "source": []
  }
 ],
 "metadata": {
  "kernelspec": {
   "display_name": "Python 3 (ipykernel)",
   "language": "python",
   "name": "python3"
  },
  "language_info": {
   "codemirror_mode": {
    "name": "ipython",
    "version": 3
   },
   "file_extension": ".py",
   "mimetype": "text/x-python",
   "name": "python",
   "nbconvert_exporter": "python",
   "pygments_lexer": "ipython3",
   "version": "3.9.7"
  }
 },
 "nbformat": 4,
 "nbformat_minor": 5
}
