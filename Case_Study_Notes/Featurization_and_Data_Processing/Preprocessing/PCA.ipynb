{
 "cells": [
  {
   "cell_type": "markdown",
   "id": "cfe439f8",
   "metadata": {},
   "source": [
    "## Prepare Iris Dataset"
   ]
  },
  {
   "cell_type": "code",
   "execution_count": 1,
   "id": "776b7fcf",
   "metadata": {},
   "outputs": [],
   "source": [
    "import pandas as pd\n",
    "from sklearn import datasets\n",
    "from sklearn.model_selection import train_test_split\n",
    "from sklearn.preprocessing import OneHotEncoder"
   ]
  },
  {
   "cell_type": "code",
   "execution_count": 2,
   "id": "ee09b369",
   "metadata": {},
   "outputs": [],
   "source": [
    "iris = pd.DataFrame()\n",
    "iris_from_file = datasets.load_iris()\n",
    "\n",
    "for column_name, row in zip(iris_from_file['feature_names'], iris_from_file['data'].T):\n",
    "    iris[column_name] = row\n",
    "iris[\"target\"] = iris_from_file[\"target\"]"
   ]
  },
  {
   "cell_type": "markdown",
   "id": "68508bc4",
   "metadata": {},
   "source": [
    "## Apply Standard Scaler to Feature Column"
   ]
  },
  {
   "cell_type": "code",
   "execution_count": 3,
   "id": "cae08717",
   "metadata": {},
   "outputs": [],
   "source": [
    "from sklearn.decomposition import PCA\n",
    "PCA_transformer = PCA(n_components=2)\n",
    "PCA_values = PCA_transformer.fit_transform(iris[iris_from_file['feature_names']])"
   ]
  },
  {
   "cell_type": "code",
   "execution_count": 5,
   "id": "fe72d212",
   "metadata": {},
   "outputs": [],
   "source": [
    "for column_name, row in zip([\"PCA_1\", \"PCA_2\"], PCA_values.T):\n",
    "    iris[column_name] = row"
   ]
  },
  {
   "cell_type": "markdown",
   "id": "0ff6914f",
   "metadata": {},
   "source": [
    "## Train-Test Split"
   ]
  },
  {
   "cell_type": "code",
   "execution_count": 6,
   "id": "bbca8e8a",
   "metadata": {},
   "outputs": [],
   "source": [
    "iris_train, iris_test = train_test_split(iris, train_size=0.70, random_state=1)"
   ]
  },
  {
   "cell_type": "markdown",
   "id": "2b153604",
   "metadata": {},
   "source": [
    "## Logistic Regression-- Sklearn"
   ]
  },
  {
   "cell_type": "code",
   "execution_count": 7,
   "id": "c021b680",
   "metadata": {},
   "outputs": [],
   "source": [
    "from sklearn.linear_model import LogisticRegression"
   ]
  },
  {
   "cell_type": "code",
   "execution_count": 8,
   "id": "9e42abac",
   "metadata": {},
   "outputs": [
    {
     "data": {
      "text/plain": [
       "LogisticRegression()"
      ]
     },
     "execution_count": 8,
     "metadata": {},
     "output_type": "execute_result"
    }
   ],
   "source": [
    "lrc = LogisticRegression()\n",
    "lrc.fit(iris_train[[\"PCA_1\", \"PCA_2\"]], iris_train[\"target\"])"
   ]
  },
  {
   "cell_type": "code",
   "execution_count": 9,
   "id": "d1864e61",
   "metadata": {},
   "outputs": [],
   "source": [
    "from sklearn.metrics import confusion_matrix"
   ]
  },
  {
   "cell_type": "code",
   "execution_count": 11,
   "id": "3a285640",
   "metadata": {},
   "outputs": [
    {
     "data": {
      "text/plain": [
       "array([[36,  0,  0],\n",
       "       [ 0, 30,  2],\n",
       "       [ 0,  2, 35]])"
      ]
     },
     "execution_count": 11,
     "metadata": {},
     "output_type": "execute_result"
    }
   ],
   "source": [
    "confusion_matrix(iris_train[\"target\"], lrc.predict(iris_train[[\"PCA_1\", \"PCA_2\"]]))"
   ]
  },
  {
   "cell_type": "code",
   "execution_count": 12,
   "id": "9a4894e9",
   "metadata": {},
   "outputs": [
    {
     "data": {
      "text/plain": [
       "array([[14,  0,  0],\n",
       "       [ 0, 17,  1],\n",
       "       [ 0,  0, 13]])"
      ]
     },
     "execution_count": 12,
     "metadata": {},
     "output_type": "execute_result"
    }
   ],
   "source": [
    "confusion_matrix(iris_test[\"target\"], lrc.predict(iris_test[[\"PCA_1\", \"PCA_2\"]]))"
   ]
  },
  {
   "cell_type": "code",
   "execution_count": null,
   "id": "b2a9ff45",
   "metadata": {},
   "outputs": [],
   "source": []
  }
 ],
 "metadata": {
  "kernelspec": {
   "display_name": "Python 3 (ipykernel)",
   "language": "python",
   "name": "python3"
  },
  "language_info": {
   "codemirror_mode": {
    "name": "ipython",
    "version": 3
   },
   "file_extension": ".py",
   "mimetype": "text/x-python",
   "name": "python",
   "nbconvert_exporter": "python",
   "pygments_lexer": "ipython3",
   "version": "3.9.7"
  }
 },
 "nbformat": 4,
 "nbformat_minor": 5
}
