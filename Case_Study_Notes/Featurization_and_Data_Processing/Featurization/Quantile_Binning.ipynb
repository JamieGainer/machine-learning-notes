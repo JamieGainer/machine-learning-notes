{
 "cells": [
  {
   "cell_type": "markdown",
   "id": "9affb58d",
   "metadata": {},
   "source": [
    "## Imports"
   ]
  },
  {
   "cell_type": "code",
   "execution_count": 1,
   "id": "aec0c781",
   "metadata": {},
   "outputs": [],
   "source": [
    "import pandas as pd\n",
    "from sklearn.preprocessing import OneHotEncoder"
   ]
  },
  {
   "cell_type": "markdown",
   "id": "aa165e98",
   "metadata": {},
   "source": [
    "## Load Data"
   ]
  },
  {
   "cell_type": "code",
   "execution_count": 2,
   "id": "03a10517",
   "metadata": {},
   "outputs": [],
   "source": [
    "crab_data = pd.read_csv(\"../Exploratory_Data_Analysis/CrabAgePrediction.csv\")"
   ]
  },
  {
   "cell_type": "code",
   "execution_count": 3,
   "id": "d6744eaf",
   "metadata": {},
   "outputs": [
    {
     "data": {
      "text/html": [
       "<div>\n",
       "<style scoped>\n",
       "    .dataframe tbody tr th:only-of-type {\n",
       "        vertical-align: middle;\n",
       "    }\n",
       "\n",
       "    .dataframe tbody tr th {\n",
       "        vertical-align: top;\n",
       "    }\n",
       "\n",
       "    .dataframe thead th {\n",
       "        text-align: right;\n",
       "    }\n",
       "</style>\n",
       "<table border=\"1\" class=\"dataframe\">\n",
       "  <thead>\n",
       "    <tr style=\"text-align: right;\">\n",
       "      <th></th>\n",
       "      <th>Sex</th>\n",
       "      <th>Length</th>\n",
       "      <th>Diameter</th>\n",
       "      <th>Height</th>\n",
       "      <th>Weight</th>\n",
       "      <th>Shucked Weight</th>\n",
       "      <th>Viscera Weight</th>\n",
       "      <th>Shell Weight</th>\n",
       "      <th>Age</th>\n",
       "    </tr>\n",
       "  </thead>\n",
       "  <tbody>\n",
       "    <tr>\n",
       "      <th>0</th>\n",
       "      <td>F</td>\n",
       "      <td>1.4375</td>\n",
       "      <td>1.1750</td>\n",
       "      <td>0.4125</td>\n",
       "      <td>24.635715</td>\n",
       "      <td>12.332033</td>\n",
       "      <td>5.584852</td>\n",
       "      <td>6.747181</td>\n",
       "      <td>9</td>\n",
       "    </tr>\n",
       "    <tr>\n",
       "      <th>1</th>\n",
       "      <td>M</td>\n",
       "      <td>0.8875</td>\n",
       "      <td>0.6500</td>\n",
       "      <td>0.2125</td>\n",
       "      <td>5.400580</td>\n",
       "      <td>2.296310</td>\n",
       "      <td>1.374951</td>\n",
       "      <td>1.559222</td>\n",
       "      <td>6</td>\n",
       "    </tr>\n",
       "    <tr>\n",
       "      <th>2</th>\n",
       "      <td>I</td>\n",
       "      <td>1.0375</td>\n",
       "      <td>0.7750</td>\n",
       "      <td>0.2500</td>\n",
       "      <td>7.952035</td>\n",
       "      <td>3.231843</td>\n",
       "      <td>1.601747</td>\n",
       "      <td>2.764076</td>\n",
       "      <td>6</td>\n",
       "    </tr>\n",
       "    <tr>\n",
       "      <th>3</th>\n",
       "      <td>F</td>\n",
       "      <td>1.1750</td>\n",
       "      <td>0.8875</td>\n",
       "      <td>0.2500</td>\n",
       "      <td>13.480187</td>\n",
       "      <td>4.748541</td>\n",
       "      <td>2.282135</td>\n",
       "      <td>5.244657</td>\n",
       "      <td>10</td>\n",
       "    </tr>\n",
       "    <tr>\n",
       "      <th>4</th>\n",
       "      <td>I</td>\n",
       "      <td>0.8875</td>\n",
       "      <td>0.6625</td>\n",
       "      <td>0.2125</td>\n",
       "      <td>6.903103</td>\n",
       "      <td>3.458639</td>\n",
       "      <td>1.488349</td>\n",
       "      <td>1.700970</td>\n",
       "      <td>6</td>\n",
       "    </tr>\n",
       "    <tr>\n",
       "      <th>...</th>\n",
       "      <td>...</td>\n",
       "      <td>...</td>\n",
       "      <td>...</td>\n",
       "      <td>...</td>\n",
       "      <td>...</td>\n",
       "      <td>...</td>\n",
       "      <td>...</td>\n",
       "      <td>...</td>\n",
       "      <td>...</td>\n",
       "    </tr>\n",
       "    <tr>\n",
       "      <th>3888</th>\n",
       "      <td>F</td>\n",
       "      <td>1.4625</td>\n",
       "      <td>1.1375</td>\n",
       "      <td>0.3250</td>\n",
       "      <td>24.819987</td>\n",
       "      <td>11.651644</td>\n",
       "      <td>5.854172</td>\n",
       "      <td>6.378637</td>\n",
       "      <td>8</td>\n",
       "    </tr>\n",
       "    <tr>\n",
       "      <th>3889</th>\n",
       "      <td>F</td>\n",
       "      <td>1.5500</td>\n",
       "      <td>1.2125</td>\n",
       "      <td>0.4375</td>\n",
       "      <td>34.458817</td>\n",
       "      <td>15.450477</td>\n",
       "      <td>7.172423</td>\n",
       "      <td>9.780577</td>\n",
       "      <td>10</td>\n",
       "    </tr>\n",
       "    <tr>\n",
       "      <th>3890</th>\n",
       "      <td>I</td>\n",
       "      <td>0.6250</td>\n",
       "      <td>0.4625</td>\n",
       "      <td>0.1625</td>\n",
       "      <td>2.012815</td>\n",
       "      <td>0.765436</td>\n",
       "      <td>0.524466</td>\n",
       "      <td>0.637864</td>\n",
       "      <td>5</td>\n",
       "    </tr>\n",
       "    <tr>\n",
       "      <th>3891</th>\n",
       "      <td>I</td>\n",
       "      <td>1.0625</td>\n",
       "      <td>0.7750</td>\n",
       "      <td>0.2625</td>\n",
       "      <td>10.347568</td>\n",
       "      <td>4.507570</td>\n",
       "      <td>2.338834</td>\n",
       "      <td>2.976698</td>\n",
       "      <td>6</td>\n",
       "    </tr>\n",
       "    <tr>\n",
       "      <th>3892</th>\n",
       "      <td>I</td>\n",
       "      <td>0.7875</td>\n",
       "      <td>0.6125</td>\n",
       "      <td>0.2125</td>\n",
       "      <td>4.068153</td>\n",
       "      <td>1.502523</td>\n",
       "      <td>1.346601</td>\n",
       "      <td>1.417475</td>\n",
       "      <td>8</td>\n",
       "    </tr>\n",
       "  </tbody>\n",
       "</table>\n",
       "<p>3893 rows × 9 columns</p>\n",
       "</div>"
      ],
      "text/plain": [
       "     Sex  Length  Diameter  Height     Weight  Shucked Weight  Viscera Weight  \\\n",
       "0      F  1.4375    1.1750  0.4125  24.635715       12.332033        5.584852   \n",
       "1      M  0.8875    0.6500  0.2125   5.400580        2.296310        1.374951   \n",
       "2      I  1.0375    0.7750  0.2500   7.952035        3.231843        1.601747   \n",
       "3      F  1.1750    0.8875  0.2500  13.480187        4.748541        2.282135   \n",
       "4      I  0.8875    0.6625  0.2125   6.903103        3.458639        1.488349   \n",
       "...   ..     ...       ...     ...        ...             ...             ...   \n",
       "3888   F  1.4625    1.1375  0.3250  24.819987       11.651644        5.854172   \n",
       "3889   F  1.5500    1.2125  0.4375  34.458817       15.450477        7.172423   \n",
       "3890   I  0.6250    0.4625  0.1625   2.012815        0.765436        0.524466   \n",
       "3891   I  1.0625    0.7750  0.2625  10.347568        4.507570        2.338834   \n",
       "3892   I  0.7875    0.6125  0.2125   4.068153        1.502523        1.346601   \n",
       "\n",
       "      Shell Weight  Age  \n",
       "0         6.747181    9  \n",
       "1         1.559222    6  \n",
       "2         2.764076    6  \n",
       "3         5.244657   10  \n",
       "4         1.700970    6  \n",
       "...            ...  ...  \n",
       "3888      6.378637    8  \n",
       "3889      9.780577   10  \n",
       "3890      0.637864    5  \n",
       "3891      2.976698    6  \n",
       "3892      1.417475    8  \n",
       "\n",
       "[3893 rows x 9 columns]"
      ]
     },
     "execution_count": 3,
     "metadata": {},
     "output_type": "execute_result"
    }
   ],
   "source": [
    "crab_data"
   ]
  },
  {
   "cell_type": "code",
   "execution_count": 4,
   "id": "a673a12e",
   "metadata": {},
   "outputs": [
    {
     "data": {
      "text/html": [
       "<div>\n",
       "<style scoped>\n",
       "    .dataframe tbody tr th:only-of-type {\n",
       "        vertical-align: middle;\n",
       "    }\n",
       "\n",
       "    .dataframe tbody tr th {\n",
       "        vertical-align: top;\n",
       "    }\n",
       "\n",
       "    .dataframe thead th {\n",
       "        text-align: right;\n",
       "    }\n",
       "</style>\n",
       "<table border=\"1\" class=\"dataframe\">\n",
       "  <thead>\n",
       "    <tr style=\"text-align: right;\">\n",
       "      <th></th>\n",
       "      <th>Length</th>\n",
       "      <th>Diameter</th>\n",
       "      <th>Height</th>\n",
       "      <th>Weight</th>\n",
       "      <th>Shucked Weight</th>\n",
       "      <th>Viscera Weight</th>\n",
       "      <th>Shell Weight</th>\n",
       "      <th>Age</th>\n",
       "    </tr>\n",
       "  </thead>\n",
       "  <tbody>\n",
       "    <tr>\n",
       "      <th>Length</th>\n",
       "      <td>1.000000</td>\n",
       "      <td>0.986653</td>\n",
       "      <td>0.823081</td>\n",
       "      <td>0.925374</td>\n",
       "      <td>0.898181</td>\n",
       "      <td>0.903253</td>\n",
       "      <td>0.897736</td>\n",
       "      <td>0.554973</td>\n",
       "    </tr>\n",
       "    <tr>\n",
       "      <th>Diameter</th>\n",
       "      <td>0.986653</td>\n",
       "      <td>1.000000</td>\n",
       "      <td>0.829532</td>\n",
       "      <td>0.925770</td>\n",
       "      <td>0.893626</td>\n",
       "      <td>0.899810</td>\n",
       "      <td>0.905561</td>\n",
       "      <td>0.573844</td>\n",
       "    </tr>\n",
       "    <tr>\n",
       "      <th>Height</th>\n",
       "      <td>0.823081</td>\n",
       "      <td>0.829532</td>\n",
       "      <td>1.000000</td>\n",
       "      <td>0.814405</td>\n",
       "      <td>0.770961</td>\n",
       "      <td>0.793272</td>\n",
       "      <td>0.812290</td>\n",
       "      <td>0.551956</td>\n",
       "    </tr>\n",
       "    <tr>\n",
       "      <th>Weight</th>\n",
       "      <td>0.925374</td>\n",
       "      <td>0.925770</td>\n",
       "      <td>0.814405</td>\n",
       "      <td>1.000000</td>\n",
       "      <td>0.969077</td>\n",
       "      <td>0.965583</td>\n",
       "      <td>0.955269</td>\n",
       "      <td>0.538819</td>\n",
       "    </tr>\n",
       "    <tr>\n",
       "      <th>Shucked Weight</th>\n",
       "      <td>0.898181</td>\n",
       "      <td>0.893626</td>\n",
       "      <td>0.770961</td>\n",
       "      <td>0.969077</td>\n",
       "      <td>1.000000</td>\n",
       "      <td>0.931280</td>\n",
       "      <td>0.882406</td>\n",
       "      <td>0.418760</td>\n",
       "    </tr>\n",
       "    <tr>\n",
       "      <th>Viscera Weight</th>\n",
       "      <td>0.903253</td>\n",
       "      <td>0.899810</td>\n",
       "      <td>0.793272</td>\n",
       "      <td>0.965583</td>\n",
       "      <td>0.931280</td>\n",
       "      <td>1.000000</td>\n",
       "      <td>0.906105</td>\n",
       "      <td>0.501328</td>\n",
       "    </tr>\n",
       "    <tr>\n",
       "      <th>Shell Weight</th>\n",
       "      <td>0.897736</td>\n",
       "      <td>0.905561</td>\n",
       "      <td>0.812290</td>\n",
       "      <td>0.955269</td>\n",
       "      <td>0.882406</td>\n",
       "      <td>0.906105</td>\n",
       "      <td>1.000000</td>\n",
       "      <td>0.625195</td>\n",
       "    </tr>\n",
       "    <tr>\n",
       "      <th>Age</th>\n",
       "      <td>0.554973</td>\n",
       "      <td>0.573844</td>\n",
       "      <td>0.551956</td>\n",
       "      <td>0.538819</td>\n",
       "      <td>0.418760</td>\n",
       "      <td>0.501328</td>\n",
       "      <td>0.625195</td>\n",
       "      <td>1.000000</td>\n",
       "    </tr>\n",
       "  </tbody>\n",
       "</table>\n",
       "</div>"
      ],
      "text/plain": [
       "                  Length  Diameter    Height    Weight  Shucked Weight  \\\n",
       "Length          1.000000  0.986653  0.823081  0.925374        0.898181   \n",
       "Diameter        0.986653  1.000000  0.829532  0.925770        0.893626   \n",
       "Height          0.823081  0.829532  1.000000  0.814405        0.770961   \n",
       "Weight          0.925374  0.925770  0.814405  1.000000        0.969077   \n",
       "Shucked Weight  0.898181  0.893626  0.770961  0.969077        1.000000   \n",
       "Viscera Weight  0.903253  0.899810  0.793272  0.965583        0.931280   \n",
       "Shell Weight    0.897736  0.905561  0.812290  0.955269        0.882406   \n",
       "Age             0.554973  0.573844  0.551956  0.538819        0.418760   \n",
       "\n",
       "                Viscera Weight  Shell Weight       Age  \n",
       "Length                0.903253      0.897736  0.554973  \n",
       "Diameter              0.899810      0.905561  0.573844  \n",
       "Height                0.793272      0.812290  0.551956  \n",
       "Weight                0.965583      0.955269  0.538819  \n",
       "Shucked Weight        0.931280      0.882406  0.418760  \n",
       "Viscera Weight        1.000000      0.906105  0.501328  \n",
       "Shell Weight          0.906105      1.000000  0.625195  \n",
       "Age                   0.501328      0.625195  1.000000  "
      ]
     },
     "execution_count": 4,
     "metadata": {},
     "output_type": "execute_result"
    }
   ],
   "source": [
    "crab_data.corr()"
   ]
  },
  {
   "cell_type": "markdown",
   "id": "0e013b06",
   "metadata": {},
   "source": [
    "## Simple Version"
   ]
  },
  {
   "cell_type": "markdown",
   "id": "61355369",
   "metadata": {},
   "source": [
    "Here we fit a linear regression model to one-hot encoding representing quantile bins in what is probably the most predictive feature (the feature with the highest pearson correlation), shell weight"
   ]
  },
  {
   "cell_type": "code",
   "execution_count": 5,
   "id": "97fa43e3",
   "metadata": {},
   "outputs": [],
   "source": [
    "def df_with_one_hot_quantile_bins_and_bin_ranges(df, column, num_bins):\n",
    "    return_df = df.copy()\n",
    "    bins, values = pd.qcut(return_df[column], num_bins, range(num_bins), retbins=True)\n",
    "    ohe = OneHotEncoder(sparse=False)\n",
    "    array = ohe.fit_transform(bins.to_numpy().reshape(-1, 1)).astype(\"int\")\n",
    "    for i, row in enumerate(array.T):\n",
    "        column_name = column.replace(\" \", \"_\") + \"_\" + str(i)\n",
    "        return_df[column_name] = row\n",
    "    return {\"df\": return_df, \"bins\": bins}"
   ]
  },
  {
   "cell_type": "code",
   "execution_count": 6,
   "id": "b67a5e62",
   "metadata": {},
   "outputs": [],
   "source": [
    "shell_weight_result = df_with_one_hot_quantile_bins_and_bin_ranges(crab_data, \"Shell Weight\", 10)\n",
    "crab_data_1, shell_weight_bins = [shell_weight_result[_] for _ in [\"df\", \"bins\"]]"
   ]
  },
  {
   "cell_type": "code",
   "execution_count": 7,
   "id": "e25eaa20",
   "metadata": {},
   "outputs": [],
   "source": [
    "from sklearn.model_selection import train_test_split"
   ]
  },
  {
   "cell_type": "code",
   "execution_count": 8,
   "id": "7e92bfa1",
   "metadata": {},
   "outputs": [],
   "source": [
    "crab_data_1_train, crab_data_1_test = train_test_split(crab_data_1, train_size=0.85, random_state=1)"
   ]
  },
  {
   "cell_type": "code",
   "execution_count": 9,
   "id": "bbf6a52d",
   "metadata": {},
   "outputs": [],
   "source": [
    "from sklearn.linear_model import LinearRegression"
   ]
  },
  {
   "cell_type": "code",
   "execution_count": 10,
   "id": "38e9a625",
   "metadata": {},
   "outputs": [],
   "source": [
    "lr = LinearRegression()"
   ]
  },
  {
   "cell_type": "code",
   "execution_count": 11,
   "id": "ebb276eb",
   "metadata": {},
   "outputs": [
    {
     "data": {
      "text/plain": [
       "LinearRegression()"
      ]
     },
     "execution_count": 11,
     "metadata": {},
     "output_type": "execute_result"
    }
   ],
   "source": [
    "lr.fit(crab_data_1_train[[\"Shell_Weight_\" + str(i) for i in range(10)]], crab_data_1_train[\"Age\"])"
   ]
  },
  {
   "cell_type": "code",
   "execution_count": 12,
   "id": "236d73e7",
   "metadata": {},
   "outputs": [
    {
     "data": {
      "text/plain": [
       "6.21363172139207"
      ]
     },
     "execution_count": 12,
     "metadata": {},
     "output_type": "execute_result"
    }
   ],
   "source": [
    "test_values = lr.predict(crab_data_1_test[[\"Shell_Weight_\" + str(i) for i in range(10)]])\n",
    "mse = ((test_values - crab_data_1_test[\"Age\"])**2).sum()/len(crab_data_1_test)\n",
    "mse"
   ]
  },
  {
   "cell_type": "code",
   "execution_count": 31,
   "id": "a0149848",
   "metadata": {},
   "outputs": [
    {
     "data": {
      "text/plain": [
       "1.8277370505136987"
      ]
     },
     "execution_count": 31,
     "metadata": {},
     "output_type": "execute_result"
    }
   ],
   "source": [
    "abs(lr.predict(crab_data_1_test[[\"Shell_Weight_\" + str(i) for i in range(10)]]) - \n",
    "    crab_data_1_test[\"Age\"]).sum() / len(crab_data_1_test)"
   ]
  },
  {
   "cell_type": "markdown",
   "id": "5a33fa26",
   "metadata": {},
   "source": [
    "### Use 30 bins instead"
   ]
  },
  {
   "cell_type": "code",
   "execution_count": 13,
   "id": "dcec1120",
   "metadata": {},
   "outputs": [
    {
     "data": {
      "text/plain": [
       "5.9515499546103285"
      ]
     },
     "execution_count": 13,
     "metadata": {},
     "output_type": "execute_result"
    }
   ],
   "source": [
    "shell_weight_result = df_with_one_hot_quantile_bins_and_bin_ranges(crab_data, \"Shell Weight\", 30)\n",
    "crab_data_2, shell_weight_bins_2 = [shell_weight_result[_] for _ in [\"df\", \"bins\"]]\n",
    "crab_data_2_train, crab_data_2_test = train_test_split(crab_data_2, train_size=0.85, random_state=1)\n",
    "\n",
    "lr_2 = LinearRegression()\n",
    "lr_2.fit(crab_data_2_train[[\"Shell_Weight_\" + str(i) for i in range(30)]], crab_data_2_train[\"Age\"])\n",
    "\n",
    "test_values_2 = lr_2.predict(crab_data_2_test[[\"Shell_Weight_\" + str(i) for i in range(30)]])\n",
    "mse_2 = ((test_values_2 - crab_data_2_test[\"Age\"])**2).sum()/len(crab_data_2_test)\n",
    "mse_2"
   ]
  },
  {
   "cell_type": "code",
   "execution_count": 33,
   "id": "a8840fe8",
   "metadata": {},
   "outputs": [
    {
     "data": {
      "text/plain": [
       "1.772517792166096"
      ]
     },
     "execution_count": 33,
     "metadata": {},
     "output_type": "execute_result"
    }
   ],
   "source": [
    "abs(lr_2.predict(crab_data_2_test[[\"Shell_Weight_\" + str(i) for i in range(30)]]) - \n",
    "    crab_data_2_test[\"Age\"]).sum() / len(crab_data_2_test)"
   ]
  },
  {
   "cell_type": "markdown",
   "id": "b389f6ce",
   "metadata": {},
   "source": [
    "### Use 90 bins instead"
   ]
  },
  {
   "cell_type": "code",
   "execution_count": 14,
   "id": "d849342d",
   "metadata": {},
   "outputs": [
    {
     "data": {
      "text/plain": [
       "6.010734247834715"
      ]
     },
     "execution_count": 14,
     "metadata": {},
     "output_type": "execute_result"
    }
   ],
   "source": [
    "shell_weight_result = df_with_one_hot_quantile_bins_and_bin_ranges(crab_data, \"Shell Weight\", 90)\n",
    "crab_data_3, shell_weight_bins_3 = [shell_weight_result[_] for _ in [\"df\", \"bins\"]]\n",
    "crab_data_3_train, crab_data_3_test = train_test_split(crab_data_3, train_size=0.85, random_state=1)\n",
    "\n",
    "lr_3 = LinearRegression()\n",
    "lr_3.fit(crab_data_3_train[[\"Shell_Weight_\" + str(i) for i in range(90)]], crab_data_3_train[\"Age\"])\n",
    "\n",
    "test_values_3 = lr_3.predict(crab_data_3_test[[\"Shell_Weight_\" + str(i) for i in range(90)]])\n",
    "mse_3 = ((test_values_3 - crab_data_3_test[\"Age\"])**2).sum()/len(crab_data_3_test)\n",
    "mse_3"
   ]
  },
  {
   "cell_type": "code",
   "execution_count": 34,
   "id": "4937128c",
   "metadata": {},
   "outputs": [
    {
     "data": {
      "text/plain": [
       "1.7740328017979452"
      ]
     },
     "execution_count": 34,
     "metadata": {},
     "output_type": "execute_result"
    }
   ],
   "source": [
    "abs(lr_3.predict(crab_data_3_test[[\"Shell_Weight_\" + str(i) for i in range(90)]]) - \n",
    "    crab_data_3_test[\"Age\"]).sum() / len(crab_data_3_test)"
   ]
  },
  {
   "cell_type": "markdown",
   "id": "d5613f36",
   "metadata": {},
   "source": [
    "## More Complex Version"
   ]
  },
  {
   "cell_type": "markdown",
   "id": "b7693c82",
   "metadata": {},
   "source": [
    "Here we combine one-hot encoding on sex with 10 quantile bins for shell weight and 3 quantile bins for height to make 90 one hot variables which we use to fit a linear regression model"
   ]
  },
  {
   "cell_type": "code",
   "execution_count": 15,
   "id": "b31b2c27",
   "metadata": {},
   "outputs": [],
   "source": [
    "crab_data_4 = crab_data_1.copy()\n",
    "\n",
    "ohe_4 = OneHotEncoder(sparse=False)\n",
    "sex_one_hot = ohe_4.fit_transform(crab_data[\"Sex\"].to_numpy().reshape(-1, 1))\n",
    "\n",
    "for column_name, values in zip(ohe_4.categories_[0], sex_one_hot.T):\n",
    "    crab_data_4[column_name] = values.astype(\"int\")"
   ]
  },
  {
   "cell_type": "code",
   "execution_count": 16,
   "id": "4c8ea054",
   "metadata": {},
   "outputs": [],
   "source": [
    "shell_weight_result = df_with_one_hot_quantile_bins_and_bin_ranges(crab_data_4, \"Height\", 3)\n",
    "crab_data_5, shell_height_bins = [shell_weight_result[_] for _ in [\"df\", \"bins\"]]"
   ]
  },
  {
   "cell_type": "code",
   "execution_count": 18,
   "id": "a87b3f7c",
   "metadata": {},
   "outputs": [],
   "source": [
    "counter = 0\n",
    "for sex in [\"M\", \"F\", \"I\"]:\n",
    "    for i in range(10):\n",
    "        for j in range(3):\n",
    "            column_name = \"bin_\" + str(counter)\n",
    "            values = crab_data_5[sex] * crab_data_5[\"Shell_Weight_\" + str(i)] * crab_data_5[\"Height_\" + str(j)]\n",
    "            crab_data_5[column_name] = values\n",
    "            counter += 1"
   ]
  },
  {
   "cell_type": "code",
   "execution_count": 20,
   "id": "c662a8cd",
   "metadata": {},
   "outputs": [],
   "source": [
    "crab_data_5_train, crab_data_5_test = train_test_split(crab_data_5, train_size=0.85, random_state=1)"
   ]
  },
  {
   "cell_type": "code",
   "execution_count": 21,
   "id": "ad091f82",
   "metadata": {},
   "outputs": [],
   "source": [
    "lr_5 = LinearRegression()"
   ]
  },
  {
   "cell_type": "code",
   "execution_count": 23,
   "id": "ee205d1d",
   "metadata": {},
   "outputs": [
    {
     "data": {
      "text/plain": [
       "LinearRegression()"
      ]
     },
     "execution_count": 23,
     "metadata": {},
     "output_type": "execute_result"
    }
   ],
   "source": [
    "columns = ([\"F\", \"M\", \"I\"] + [\"Shell_Weight_\" + str(i) for i in range(10)] + \n",
    "                          [\"Height_\" + str(i) for i in range(3)] + [\"bin_\" + str(i) for i in range(30)])\n",
    "\n",
    "lr_5.fit(crab_data_5_train[columns], crab_data_5_train[\"Age\"])"
   ]
  },
  {
   "cell_type": "code",
   "execution_count": 28,
   "id": "537bbdd8",
   "metadata": {},
   "outputs": [
    {
     "data": {
      "text/plain": [
       "6.0497937137133455"
      ]
     },
     "execution_count": 28,
     "metadata": {},
     "output_type": "execute_result"
    }
   ],
   "source": [
    "mse_5 = ((lr_5.predict(crab_data_5_test[columns]) - crab_data_5_test[\"Age\"])**2).sum() / len(crab_data_5_test)\n",
    "mse_5"
   ]
  },
  {
   "cell_type": "code",
   "execution_count": 29,
   "id": "037d59e9",
   "metadata": {},
   "outputs": [
    {
     "data": {
      "text/plain": [
       "1.7864271190068493"
      ]
     },
     "execution_count": 29,
     "metadata": {},
     "output_type": "execute_result"
    }
   ],
   "source": [
    "abs(lr_5.predict(crab_data_5_test[columns]) - crab_data_5_test[\"Age\"]).sum() / len(crab_data_5_test)"
   ]
  },
  {
   "cell_type": "markdown",
   "id": "12980a24",
   "metadata": {},
   "source": [
    "## Compare with Regression with Raw Features + One-Hot Encoded Sex"
   ]
  },
  {
   "cell_type": "code",
   "execution_count": 35,
   "id": "7e1659d5",
   "metadata": {},
   "outputs": [],
   "source": [
    "crab_data_6 = crab_data.copy()\n",
    "\n",
    "ohe_6 = OneHotEncoder(sparse=False)\n",
    "sex_one_hot = ohe_6.fit_transform(crab_data[\"Sex\"].to_numpy().reshape(-1, 1))\n",
    "\n",
    "for column_name, values in zip(ohe_6.categories_[0], sex_one_hot.T):\n",
    "    crab_data_6[column_name] = values.astype(\"int\")"
   ]
  },
  {
   "cell_type": "code",
   "execution_count": 37,
   "id": "eab1077a",
   "metadata": {},
   "outputs": [],
   "source": [
    "crab_data_6_train, crab_data_6_test = train_test_split(crab_data_6, train_size=0.85, random_state=1)"
   ]
  },
  {
   "cell_type": "code",
   "execution_count": 42,
   "id": "21911252",
   "metadata": {},
   "outputs": [
    {
     "data": {
      "text/plain": [
       "(4.67141577587172, 1.5701804913947337)"
      ]
     },
     "execution_count": 42,
     "metadata": {},
     "output_type": "execute_result"
    }
   ],
   "source": [
    "lr_6 = LinearRegression()\n",
    "training_columns = [c for c in crab_data_6.columns if c not in [\"Sex\", \"Age\"]]\n",
    "lr_6.fit(crab_data_6_train[training_columns], crab_data_6_train[\"Age\"])\n",
    "predict_6 = lr_6.predict(crab_data_6_test[training_columns])\n",
    "mse_6 = ((crab_data_6_test[\"Age\"] - predict_6)**2).sum() / len(crab_data_6_test)\n",
    "abs_6 = abs((crab_data_6_test[\"Age\"] - predict_6)).sum() / len(crab_data_6_test)\n",
    "mse_6, abs_6"
   ]
  },
  {
   "cell_type": "markdown",
   "id": "37748612",
   "metadata": {},
   "source": [
    "## Compare with Regression with Raw Features + One-Hot Encoded Sex + interactions and 2nd degree features"
   ]
  },
  {
   "cell_type": "code",
   "execution_count": 44,
   "id": "f0b0d15e",
   "metadata": {},
   "outputs": [
    {
     "data": {
      "text/plain": [
       "(4.42707691784464, 1.51518274722538)"
      ]
     },
     "execution_count": 44,
     "metadata": {},
     "output_type": "execute_result"
    }
   ],
   "source": [
    "crab_data_7 = crab_data_6.copy()\n",
    "new_features = []\n",
    "for i, feature in enumerate(training_columns):\n",
    "    for feature_2 in training_columns[i:]:\n",
    "        new_feature_name = feature + \"_\" + feature_2\n",
    "        new_features.append(new_feature_name)\n",
    "        crab_data_7[new_feature_name] = crab_data_7[feature] * crab_data_7[feature_2]\n",
    "        \n",
    "crab_data_7_train, crab_data_7_test = train_test_split(crab_data_7, train_size=0.85, random_state=1)\n",
    "\n",
    "lr_7 = LinearRegression()\n",
    "lr_7.fit(crab_data_7_train[training_columns + new_features], crab_data_7_train[\"Age\"])\n",
    "predict_7 = lr_7.predict(crab_data_7_test[training_columns + new_features])\n",
    "mse_7 = ((crab_data_7_test[\"Age\"] - predict_7)**2).sum() / len(crab_data_7_test)\n",
    "abs_7 = abs((crab_data_7_test[\"Age\"] - predict_7)).sum() / len(crab_data_7_test)\n",
    "mse_7, abs_7"
   ]
  },
  {
   "cell_type": "code",
   "execution_count": null,
   "id": "53627c9b",
   "metadata": {},
   "outputs": [],
   "source": []
  }
 ],
 "metadata": {
  "kernelspec": {
   "display_name": "Python 3 (ipykernel)",
   "language": "python",
   "name": "python3"
  },
  "language_info": {
   "codemirror_mode": {
    "name": "ipython",
    "version": 3
   },
   "file_extension": ".py",
   "mimetype": "text/x-python",
   "name": "python",
   "nbconvert_exporter": "python",
   "pygments_lexer": "ipython3",
   "version": "3.9.7"
  }
 },
 "nbformat": 4,
 "nbformat_minor": 5
}
