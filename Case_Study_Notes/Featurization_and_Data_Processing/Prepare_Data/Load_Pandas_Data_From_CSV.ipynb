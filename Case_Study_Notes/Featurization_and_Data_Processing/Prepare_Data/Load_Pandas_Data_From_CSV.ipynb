{
 "cells": [
  {
   "cell_type": "code",
   "execution_count": 1,
   "id": "9ce45b13",
   "metadata": {},
   "outputs": [],
   "source": [
    "import pandas as pd"
   ]
  },
  {
   "cell_type": "markdown",
   "id": "369ebcd3",
   "metadata": {},
   "source": [
    "## Comma Separated, No Header"
   ]
  },
  {
   "cell_type": "code",
   "execution_count": 16,
   "id": "f07a2783",
   "metadata": {},
   "outputs": [],
   "source": [
    "csv_df = pd.read_csv(\"demo_csv/demo_comma_no_header.csv\", header=None)"
   ]
  },
  {
   "cell_type": "code",
   "execution_count": 17,
   "id": "9f30bc3a",
   "metadata": {},
   "outputs": [
    {
     "data": {
      "text/html": [
       "<div>\n",
       "<style scoped>\n",
       "    .dataframe tbody tr th:only-of-type {\n",
       "        vertical-align: middle;\n",
       "    }\n",
       "\n",
       "    .dataframe tbody tr th {\n",
       "        vertical-align: top;\n",
       "    }\n",
       "\n",
       "    .dataframe thead th {\n",
       "        text-align: right;\n",
       "    }\n",
       "</style>\n",
       "<table border=\"1\" class=\"dataframe\">\n",
       "  <thead>\n",
       "    <tr style=\"text-align: right;\">\n",
       "      <th></th>\n",
       "      <th>0</th>\n",
       "      <th>1</th>\n",
       "      <th>2</th>\n",
       "      <th>3</th>\n",
       "    </tr>\n",
       "  </thead>\n",
       "  <tbody>\n",
       "    <tr>\n",
       "      <th>0</th>\n",
       "      <td>Norway</td>\n",
       "      <td>1</td>\n",
       "      <td>1</td>\n",
       "      <td>2.00</td>\n",
       "    </tr>\n",
       "    <tr>\n",
       "      <th>1</th>\n",
       "      <td>Denmark</td>\n",
       "      <td></td>\n",
       "      <td>2</td>\n",
       "      <td>2.00</td>\n",
       "    </tr>\n",
       "    <tr>\n",
       "      <th>2</th>\n",
       "      <td>Sweden</td>\n",
       "      <td>2</td>\n",
       "      <td>3</td>\n",
       "      <td>7.50</td>\n",
       "    </tr>\n",
       "    <tr>\n",
       "      <th>3</th>\n",
       "      <td>Finland</td>\n",
       "      <td>3</td>\n",
       "      <td>4</td>\n",
       "      <td>13.20</td>\n",
       "    </tr>\n",
       "    <tr>\n",
       "      <th>4</th>\n",
       "      <td>Germany</td>\n",
       "      <td>4</td>\n",
       "      <td>6</td>\n",
       "      <td>21.20</td>\n",
       "    </tr>\n",
       "    <tr>\n",
       "      <th>5</th>\n",
       "      <td>Italy</td>\n",
       "      <td>5</td>\n",
       "      <td>9</td>\n",
       "      <td>34.00</td>\n",
       "    </tr>\n",
       "    <tr>\n",
       "      <th>6</th>\n",
       "      <td>Scotland</td>\n",
       "      <td>6</td>\n",
       "      <td>10</td>\n",
       "      <td>42.42</td>\n",
       "    </tr>\n",
       "  </tbody>\n",
       "</table>\n",
       "</div>"
      ],
      "text/plain": [
       "          0   1   2      3\n",
       "0    Norway   1   1   2.00\n",
       "1   Denmark       2   2.00\n",
       "2    Sweden   2   3   7.50\n",
       "3   Finland   3   4  13.20\n",
       "4   Germany   4   6  21.20\n",
       "5     Italy   5   9  34.00\n",
       "6  Scotland   6  10  42.42"
      ]
     },
     "execution_count": 17,
     "metadata": {},
     "output_type": "execute_result"
    }
   ],
   "source": [
    "csv_df"
   ]
  },
  {
   "cell_type": "code",
   "execution_count": 18,
   "id": "2552fd65",
   "metadata": {},
   "outputs": [
    {
     "name": "stdout",
     "output_type": "stream",
     "text": [
      "<class 'pandas.core.frame.DataFrame'>\n",
      "RangeIndex: 7 entries, 0 to 6\n",
      "Data columns (total 4 columns):\n",
      " #   Column  Non-Null Count  Dtype  \n",
      "---  ------  --------------  -----  \n",
      " 0   0       7 non-null      object \n",
      " 1   1       7 non-null      object \n",
      " 2   2       7 non-null      int64  \n",
      " 3   3       7 non-null      float64\n",
      "dtypes: float64(1), int64(1), object(2)\n",
      "memory usage: 352.0+ bytes\n"
     ]
    }
   ],
   "source": [
    "csv_df.info()"
   ]
  },
  {
   "cell_type": "markdown",
   "id": "493b68c6",
   "metadata": {},
   "source": [
    "### Missing Values in Numeric Column in the CSV"
   ]
  },
  {
   "cell_type": "markdown",
   "id": "7a8249af",
   "metadata": {},
   "source": [
    "Note that the missing entry in the second role is read in as a space, rather than as a null"
   ]
  },
  {
   "cell_type": "code",
   "execution_count": 20,
   "id": "e856d7f9",
   "metadata": {},
   "outputs": [
    {
     "data": {
      "text/plain": [
       "' '"
      ]
     },
     "execution_count": 20,
     "metadata": {},
     "output_type": "execute_result"
    }
   ],
   "source": [
    "csv_df[1].iloc[1]"
   ]
  },
  {
   "cell_type": "markdown",
   "id": "9b0857c2",
   "metadata": {},
   "source": [
    "As a result of this space, all of the other values in the column are also read as strings, rather than nulls"
   ]
  },
  {
   "cell_type": "code",
   "execution_count": 21,
   "id": "ba66f983",
   "metadata": {},
   "outputs": [
    {
     "data": {
      "text/plain": [
       "' 1'"
      ]
     },
     "execution_count": 21,
     "metadata": {},
     "output_type": "execute_result"
    }
   ],
   "source": [
    "csv_df[1].iloc[0]"
   ]
  },
  {
   "cell_type": "markdown",
   "id": "4fb48f85",
   "metadata": {},
   "source": [
    "Two approaches at this point"
   ]
  },
  {
   "cell_type": "markdown",
   "id": "1344154a",
   "metadata": {},
   "source": [
    "### 1.  Specifying that spaces are nan"
   ]
  },
  {
   "cell_type": "code",
   "execution_count": 22,
   "id": "7204b956",
   "metadata": {},
   "outputs": [],
   "source": [
    "csv_df_2 = pd.read_csv(\"demo_csv/demo_comma_no_header.csv\", header=None, na_values=\" \")"
   ]
  },
  {
   "cell_type": "code",
   "execution_count": 24,
   "id": "740d7442",
   "metadata": {},
   "outputs": [
    {
     "name": "stdout",
     "output_type": "stream",
     "text": [
      "<class 'pandas.core.frame.DataFrame'>\n",
      "RangeIndex: 7 entries, 0 to 6\n",
      "Data columns (total 4 columns):\n",
      " #   Column  Non-Null Count  Dtype  \n",
      "---  ------  --------------  -----  \n",
      " 0   0       7 non-null      object \n",
      " 1   1       6 non-null      float64\n",
      " 2   2       7 non-null      int64  \n",
      " 3   3       7 non-null      float64\n",
      "dtypes: float64(2), int64(1), object(1)\n",
      "memory usage: 352.0+ bytes\n"
     ]
    }
   ],
   "source": [
    "csv_df_2.info()"
   ]
  },
  {
   "cell_type": "markdown",
   "id": "d0d8d2cd",
   "metadata": {},
   "source": [
    "So column 1 is now numeric, though float.  This is because nan is a float.  There are fixes to this (see https://pandas.pydata.org/docs/user_guide/integer_na.html) but I don't want to get into it here in the interest of keeping this as an introduction"
   ]
  },
  {
   "cell_type": "markdown",
   "id": "b283a315",
   "metadata": {},
   "source": [
    "### 2.  Use apply to map the space to nan, other strings to the numeric value"
   ]
  },
  {
   "cell_type": "code",
   "execution_count": 35,
   "id": "f17b5b4c",
   "metadata": {},
   "outputs": [
    {
     "data": {
      "text/plain": [
       "''"
      ]
     },
     "execution_count": 35,
     "metadata": {},
     "output_type": "execute_result"
    }
   ],
   "source": [
    "\" \".strip()"
   ]
  },
  {
   "cell_type": "code",
   "execution_count": 37,
   "id": "125f3112",
   "metadata": {},
   "outputs": [],
   "source": [
    "csv_df_3 = csv_df.copy()\n",
    "csv_df_3[1] = csv_df[1].apply(lambda x: None if x.strip() == \"\" else int(x.strip()))"
   ]
  },
  {
   "cell_type": "code",
   "execution_count": 39,
   "id": "d5a5864a",
   "metadata": {},
   "outputs": [
    {
     "name": "stdout",
     "output_type": "stream",
     "text": [
      "<class 'pandas.core.frame.DataFrame'>\n",
      "RangeIndex: 7 entries, 0 to 6\n",
      "Data columns (total 4 columns):\n",
      " #   Column  Non-Null Count  Dtype  \n",
      "---  ------  --------------  -----  \n",
      " 0   0       7 non-null      object \n",
      " 1   1       6 non-null      float64\n",
      " 2   2       7 non-null      int64  \n",
      " 3   3       7 non-null      float64\n",
      "dtypes: float64(2), int64(1), object(1)\n",
      "memory usage: 352.0+ bytes\n"
     ]
    }
   ],
   "source": [
    "csv_df_3.info()"
   ]
  },
  {
   "cell_type": "markdown",
   "id": "8ec1e7ab",
   "metadata": {},
   "source": [
    "### Specify Column Names"
   ]
  },
  {
   "cell_type": "markdown",
   "id": "f00a731a",
   "metadata": {},
   "source": [
    "At read-in"
   ]
  },
  {
   "cell_type": "code",
   "execution_count": 44,
   "id": "fa05d739",
   "metadata": {},
   "outputs": [],
   "source": [
    "csv_df_4 = pd.read_csv(\"demo_csv/demo_comma_no_header.csv\", header=None, na_values=\" \", \n",
    "                       names=[\"Country\", \"A\", \"B\", \"x\"])"
   ]
  },
  {
   "cell_type": "code",
   "execution_count": 43,
   "id": "8958d42f",
   "metadata": {},
   "outputs": [
    {
     "data": {
      "text/html": [
       "<div>\n",
       "<style scoped>\n",
       "    .dataframe tbody tr th:only-of-type {\n",
       "        vertical-align: middle;\n",
       "    }\n",
       "\n",
       "    .dataframe tbody tr th {\n",
       "        vertical-align: top;\n",
       "    }\n",
       "\n",
       "    .dataframe thead th {\n",
       "        text-align: right;\n",
       "    }\n",
       "</style>\n",
       "<table border=\"1\" class=\"dataframe\">\n",
       "  <thead>\n",
       "    <tr style=\"text-align: right;\">\n",
       "      <th></th>\n",
       "      <th>0</th>\n",
       "      <th>1</th>\n",
       "      <th>2</th>\n",
       "      <th>3</th>\n",
       "    </tr>\n",
       "  </thead>\n",
       "  <tbody>\n",
       "    <tr>\n",
       "      <th>0</th>\n",
       "      <td>Norway</td>\n",
       "      <td>1.0</td>\n",
       "      <td>1</td>\n",
       "      <td>2.00</td>\n",
       "    </tr>\n",
       "    <tr>\n",
       "      <th>1</th>\n",
       "      <td>Denmark</td>\n",
       "      <td>NaN</td>\n",
       "      <td>2</td>\n",
       "      <td>2.00</td>\n",
       "    </tr>\n",
       "    <tr>\n",
       "      <th>2</th>\n",
       "      <td>Sweden</td>\n",
       "      <td>2.0</td>\n",
       "      <td>3</td>\n",
       "      <td>7.50</td>\n",
       "    </tr>\n",
       "    <tr>\n",
       "      <th>3</th>\n",
       "      <td>Finland</td>\n",
       "      <td>3.0</td>\n",
       "      <td>4</td>\n",
       "      <td>13.20</td>\n",
       "    </tr>\n",
       "    <tr>\n",
       "      <th>4</th>\n",
       "      <td>Germany</td>\n",
       "      <td>4.0</td>\n",
       "      <td>6</td>\n",
       "      <td>21.20</td>\n",
       "    </tr>\n",
       "    <tr>\n",
       "      <th>5</th>\n",
       "      <td>Italy</td>\n",
       "      <td>5.0</td>\n",
       "      <td>9</td>\n",
       "      <td>34.00</td>\n",
       "    </tr>\n",
       "    <tr>\n",
       "      <th>6</th>\n",
       "      <td>Scotland</td>\n",
       "      <td>6.0</td>\n",
       "      <td>10</td>\n",
       "      <td>42.42</td>\n",
       "    </tr>\n",
       "  </tbody>\n",
       "</table>\n",
       "</div>"
      ],
      "text/plain": [
       "          0    1   2      3\n",
       "0    Norway  1.0   1   2.00\n",
       "1   Denmark  NaN   2   2.00\n",
       "2    Sweden  2.0   3   7.50\n",
       "3   Finland  3.0   4  13.20\n",
       "4   Germany  4.0   6  21.20\n",
       "5     Italy  5.0   9  34.00\n",
       "6  Scotland  6.0  10  42.42"
      ]
     },
     "execution_count": 43,
     "metadata": {},
     "output_type": "execute_result"
    }
   ],
   "source": [
    "csv_df_3"
   ]
  },
  {
   "cell_type": "markdown",
   "id": "9960ad28",
   "metadata": {},
   "source": [
    "Using rename.  Note that if axis=1 is not specified, rename will act on the row index rather than the column index."
   ]
  },
  {
   "cell_type": "code",
   "execution_count": 58,
   "id": "edb5419f",
   "metadata": {},
   "outputs": [],
   "source": [
    "csv_df_5 = csv_df_3.rename({0: \"Country\", 1: \"A\", 2: \"B\", 3: \"x\"}, axis=1)"
   ]
  },
  {
   "cell_type": "code",
   "execution_count": 59,
   "id": "7c491786",
   "metadata": {},
   "outputs": [
    {
     "data": {
      "text/html": [
       "<div>\n",
       "<style scoped>\n",
       "    .dataframe tbody tr th:only-of-type {\n",
       "        vertical-align: middle;\n",
       "    }\n",
       "\n",
       "    .dataframe tbody tr th {\n",
       "        vertical-align: top;\n",
       "    }\n",
       "\n",
       "    .dataframe thead th {\n",
       "        text-align: right;\n",
       "    }\n",
       "</style>\n",
       "<table border=\"1\" class=\"dataframe\">\n",
       "  <thead>\n",
       "    <tr style=\"text-align: right;\">\n",
       "      <th></th>\n",
       "      <th>Country</th>\n",
       "      <th>A</th>\n",
       "      <th>B</th>\n",
       "      <th>x</th>\n",
       "    </tr>\n",
       "  </thead>\n",
       "  <tbody>\n",
       "    <tr>\n",
       "      <th>0</th>\n",
       "      <td>Norway</td>\n",
       "      <td>1.0</td>\n",
       "      <td>1</td>\n",
       "      <td>2.00</td>\n",
       "    </tr>\n",
       "    <tr>\n",
       "      <th>1</th>\n",
       "      <td>Denmark</td>\n",
       "      <td>NaN</td>\n",
       "      <td>2</td>\n",
       "      <td>2.00</td>\n",
       "    </tr>\n",
       "    <tr>\n",
       "      <th>2</th>\n",
       "      <td>Sweden</td>\n",
       "      <td>2.0</td>\n",
       "      <td>3</td>\n",
       "      <td>7.50</td>\n",
       "    </tr>\n",
       "    <tr>\n",
       "      <th>3</th>\n",
       "      <td>Finland</td>\n",
       "      <td>3.0</td>\n",
       "      <td>4</td>\n",
       "      <td>13.20</td>\n",
       "    </tr>\n",
       "    <tr>\n",
       "      <th>4</th>\n",
       "      <td>Germany</td>\n",
       "      <td>4.0</td>\n",
       "      <td>6</td>\n",
       "      <td>21.20</td>\n",
       "    </tr>\n",
       "    <tr>\n",
       "      <th>5</th>\n",
       "      <td>Italy</td>\n",
       "      <td>5.0</td>\n",
       "      <td>9</td>\n",
       "      <td>34.00</td>\n",
       "    </tr>\n",
       "    <tr>\n",
       "      <th>6</th>\n",
       "      <td>Scotland</td>\n",
       "      <td>6.0</td>\n",
       "      <td>10</td>\n",
       "      <td>42.42</td>\n",
       "    </tr>\n",
       "  </tbody>\n",
       "</table>\n",
       "</div>"
      ],
      "text/plain": [
       "    Country    A   B      x\n",
       "0    Norway  1.0   1   2.00\n",
       "1   Denmark  NaN   2   2.00\n",
       "2    Sweden  2.0   3   7.50\n",
       "3   Finland  3.0   4  13.20\n",
       "4   Germany  4.0   6  21.20\n",
       "5     Italy  5.0   9  34.00\n",
       "6  Scotland  6.0  10  42.42"
      ]
     },
     "execution_count": 59,
     "metadata": {},
     "output_type": "execute_result"
    }
   ],
   "source": [
    "csv_df_5"
   ]
  },
  {
   "cell_type": "markdown",
   "id": "02e5448d",
   "metadata": {},
   "source": [
    "## Comma Separated, Header"
   ]
  },
  {
   "cell_type": "code",
   "execution_count": 62,
   "id": "9c21fda8",
   "metadata": {},
   "outputs": [],
   "source": [
    "csv_df_6 = pd.read_csv(\"demo_csv/demo_comma_header.csv\", na_values=\" \")"
   ]
  },
  {
   "cell_type": "code",
   "execution_count": 63,
   "id": "337d8ad4",
   "metadata": {},
   "outputs": [
    {
     "data": {
      "text/html": [
       "<div>\n",
       "<style scoped>\n",
       "    .dataframe tbody tr th:only-of-type {\n",
       "        vertical-align: middle;\n",
       "    }\n",
       "\n",
       "    .dataframe tbody tr th {\n",
       "        vertical-align: top;\n",
       "    }\n",
       "\n",
       "    .dataframe thead th {\n",
       "        text-align: right;\n",
       "    }\n",
       "</style>\n",
       "<table border=\"1\" class=\"dataframe\">\n",
       "  <thead>\n",
       "    <tr style=\"text-align: right;\">\n",
       "      <th></th>\n",
       "      <th>Country</th>\n",
       "      <th>A</th>\n",
       "      <th>B</th>\n",
       "      <th>x</th>\n",
       "    </tr>\n",
       "  </thead>\n",
       "  <tbody>\n",
       "    <tr>\n",
       "      <th>0</th>\n",
       "      <td>Norway</td>\n",
       "      <td>1.0</td>\n",
       "      <td>1</td>\n",
       "      <td>2.00</td>\n",
       "    </tr>\n",
       "    <tr>\n",
       "      <th>1</th>\n",
       "      <td>Denmark</td>\n",
       "      <td>NaN</td>\n",
       "      <td>2</td>\n",
       "      <td>2.00</td>\n",
       "    </tr>\n",
       "    <tr>\n",
       "      <th>2</th>\n",
       "      <td>Sweden</td>\n",
       "      <td>2.0</td>\n",
       "      <td>3</td>\n",
       "      <td>7.50</td>\n",
       "    </tr>\n",
       "    <tr>\n",
       "      <th>3</th>\n",
       "      <td>Finland</td>\n",
       "      <td>3.0</td>\n",
       "      <td>4</td>\n",
       "      <td>13.20</td>\n",
       "    </tr>\n",
       "    <tr>\n",
       "      <th>4</th>\n",
       "      <td>Germany</td>\n",
       "      <td>4.0</td>\n",
       "      <td>6</td>\n",
       "      <td>21.20</td>\n",
       "    </tr>\n",
       "    <tr>\n",
       "      <th>5</th>\n",
       "      <td>Italy</td>\n",
       "      <td>5.0</td>\n",
       "      <td>9</td>\n",
       "      <td>34.00</td>\n",
       "    </tr>\n",
       "    <tr>\n",
       "      <th>6</th>\n",
       "      <td>Scotland</td>\n",
       "      <td>6.0</td>\n",
       "      <td>10</td>\n",
       "      <td>42.42</td>\n",
       "    </tr>\n",
       "  </tbody>\n",
       "</table>\n",
       "</div>"
      ],
      "text/plain": [
       "    Country    A   B      x\n",
       "0    Norway  1.0   1   2.00\n",
       "1   Denmark  NaN   2   2.00\n",
       "2    Sweden  2.0   3   7.50\n",
       "3   Finland  3.0   4  13.20\n",
       "4   Germany  4.0   6  21.20\n",
       "5     Italy  5.0   9  34.00\n",
       "6  Scotland  6.0  10  42.42"
      ]
     },
     "execution_count": 63,
     "metadata": {},
     "output_type": "execute_result"
    }
   ],
   "source": [
    "csv_df_6"
   ]
  },
  {
   "cell_type": "markdown",
   "id": "cea86b1c",
   "metadata": {},
   "source": [
    "## Space Separated, Header"
   ]
  },
  {
   "cell_type": "code",
   "execution_count": 69,
   "id": "f5ec011f",
   "metadata": {},
   "outputs": [],
   "source": [
    "csv_df_7 = pd.read_csv(\"demo_csv/demo_space_header.csv\", sep=\" \")"
   ]
  },
  {
   "cell_type": "code",
   "execution_count": 70,
   "id": "7c4ac673",
   "metadata": {},
   "outputs": [
    {
     "data": {
      "text/html": [
       "<div>\n",
       "<style scoped>\n",
       "    .dataframe tbody tr th:only-of-type {\n",
       "        vertical-align: middle;\n",
       "    }\n",
       "\n",
       "    .dataframe tbody tr th {\n",
       "        vertical-align: top;\n",
       "    }\n",
       "\n",
       "    .dataframe thead th {\n",
       "        text-align: right;\n",
       "    }\n",
       "</style>\n",
       "<table border=\"1\" class=\"dataframe\">\n",
       "  <thead>\n",
       "    <tr style=\"text-align: right;\">\n",
       "      <th></th>\n",
       "      <th>Country</th>\n",
       "      <th>A</th>\n",
       "      <th>B</th>\n",
       "      <th>x</th>\n",
       "    </tr>\n",
       "  </thead>\n",
       "  <tbody>\n",
       "    <tr>\n",
       "      <th>0</th>\n",
       "      <td>Norway</td>\n",
       "      <td>1.0</td>\n",
       "      <td>1</td>\n",
       "      <td>2.00</td>\n",
       "    </tr>\n",
       "    <tr>\n",
       "      <th>1</th>\n",
       "      <td>Denmark</td>\n",
       "      <td>NaN</td>\n",
       "      <td>2</td>\n",
       "      <td>2.00</td>\n",
       "    </tr>\n",
       "    <tr>\n",
       "      <th>2</th>\n",
       "      <td>Sweden</td>\n",
       "      <td>2.0</td>\n",
       "      <td>3</td>\n",
       "      <td>7.50</td>\n",
       "    </tr>\n",
       "    <tr>\n",
       "      <th>3</th>\n",
       "      <td>Finland</td>\n",
       "      <td>3.0</td>\n",
       "      <td>4</td>\n",
       "      <td>13.20</td>\n",
       "    </tr>\n",
       "    <tr>\n",
       "      <th>4</th>\n",
       "      <td>Germany</td>\n",
       "      <td>4.0</td>\n",
       "      <td>6</td>\n",
       "      <td>21.20</td>\n",
       "    </tr>\n",
       "    <tr>\n",
       "      <th>5</th>\n",
       "      <td>Italy</td>\n",
       "      <td>5.0</td>\n",
       "      <td>9</td>\n",
       "      <td>34.00</td>\n",
       "    </tr>\n",
       "    <tr>\n",
       "      <th>6</th>\n",
       "      <td>Scotland</td>\n",
       "      <td>6.0</td>\n",
       "      <td>10</td>\n",
       "      <td>42.42</td>\n",
       "    </tr>\n",
       "  </tbody>\n",
       "</table>\n",
       "</div>"
      ],
      "text/plain": [
       "    Country    A   B      x\n",
       "0    Norway  1.0   1   2.00\n",
       "1   Denmark  NaN   2   2.00\n",
       "2    Sweden  2.0   3   7.50\n",
       "3   Finland  3.0   4  13.20\n",
       "4   Germany  4.0   6  21.20\n",
       "5     Italy  5.0   9  34.00\n",
       "6  Scotland  6.0  10  42.42"
      ]
     },
     "execution_count": 70,
     "metadata": {},
     "output_type": "execute_result"
    }
   ],
   "source": [
    "csv_df_7"
   ]
  },
  {
   "cell_type": "markdown",
   "id": "e77a6713",
   "metadata": {},
   "source": [
    "Note that to have the NAN in right place we need to have exactly 2 spaces between \"Denmark\" and \"2\".  This is why commas are more popular than spaces as a separation character"
   ]
  },
  {
   "cell_type": "code",
   "execution_count": null,
   "id": "26abf450",
   "metadata": {},
   "outputs": [],
   "source": []
  }
 ],
 "metadata": {
  "kernelspec": {
   "display_name": "Python 3 (ipykernel)",
   "language": "python",
   "name": "python3"
  },
  "language_info": {
   "codemirror_mode": {
    "name": "ipython",
    "version": 3
   },
   "file_extension": ".py",
   "mimetype": "text/x-python",
   "name": "python",
   "nbconvert_exporter": "python",
   "pygments_lexer": "ipython3",
   "version": "3.9.7"
  }
 },
 "nbformat": 4,
 "nbformat_minor": 5
}
