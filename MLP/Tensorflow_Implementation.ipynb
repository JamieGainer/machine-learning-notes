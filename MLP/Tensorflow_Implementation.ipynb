{
 "cells": [
  {
   "cell_type": "code",
   "execution_count": 1,
   "id": "4e927588",
   "metadata": {},
   "outputs": [
    {
     "name": "stderr",
     "output_type": "stream",
     "text": [
      "2023-05-26 20:10:47.796179: I tensorflow/core/platform/cpu_feature_guard.cc:193] This TensorFlow binary is optimized with oneAPI Deep Neural Network Library (oneDNN) to use the following CPU instructions in performance-critical operations:  SSE4.1 SSE4.2 AVX AVX2 FMA\n",
      "To enable them in other operations, rebuild TensorFlow with the appropriate compiler flags.\n"
     ]
    }
   ],
   "source": [
    "import tensorflow as tf\n",
    "import numpy as np"
   ]
  },
  {
   "cell_type": "code",
   "execution_count": 5,
   "id": "3b6ed8be",
   "metadata": {},
   "outputs": [],
   "source": [
    "def initialize_weights_and_biases(layer_dimensions):\n",
    "    W, b = [], []\n",
    "    initializer = tf.keras.initializers.GlorotNormal(seed=1)\n",
    "    for i, (layer1, layer2) in enumerate(zip(layer_dimensions, layer_dimensions[1:]), 1):\n",
    "        W.append(tf.Variable(initializer(shape=(layer1, layer2)), name = 'W' + str(i)))\n",
    "        b.append(tf.Variable(initializer(shape=(1, layer2)), name = 'b' + str(i)))\n",
    "    return {\"W_i\": W, \"b_i\": b}"
   ]
  },
  {
   "cell_type": "code",
   "execution_count": null,
   "id": "58f0064b",
   "metadata": {},
   "outputs": [],
   "source": [
    "def forward_pass()"
   ]
  },
  {
   "cell_type": "markdown",
   "id": "1fca4443",
   "metadata": {},
   "source": [
    "## Example"
   ]
  },
  {
   "cell_type": "code",
   "execution_count": null,
   "id": "251d2d6b",
   "metadata": {},
   "outputs": [],
   "source": []
  }
 ],
 "metadata": {
  "kernelspec": {
   "display_name": "Python 3 (ipykernel)",
   "language": "python",
   "name": "python3"
  },
  "language_info": {
   "codemirror_mode": {
    "name": "ipython",
    "version": 3
   },
   "file_extension": ".py",
   "mimetype": "text/x-python",
   "name": "python",
   "nbconvert_exporter": "python",
   "pygments_lexer": "ipython3",
   "version": "3.9.7"
  }
 },
 "nbformat": 4,
 "nbformat_minor": 5
}
