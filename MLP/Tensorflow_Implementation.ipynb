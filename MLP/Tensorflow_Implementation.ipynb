{
 "cells": [
  {
   "cell_type": "code",
   "execution_count": 6,
   "id": "4e927588",
   "metadata": {},
   "outputs": [],
   "source": [
    "import tensorflow as tf\n",
    "import numpy as np"
   ]
  },
  {
   "cell_type": "code",
   "execution_count": 7,
   "id": "3b6ed8be",
   "metadata": {},
   "outputs": [],
   "source": [
    "def initialize_weights_and_biases(layer_dimensions):\n",
    "    W, b = [], []\n",
    "    initializer = tf.keras.initializers.GlorotNormal(seed=1)\n",
    "    for i, (layer1, layer2) in enumerate(zip(layer_dimensions, layer_dimensions[1:]), 1):\n",
    "        W.append(tf.Variable(initializer(shape=(layer1, layer2)), name = 'W' + str(i)))\n",
    "        b.append(tf.Variable(initializer(shape=(1, layer2)), name = 'b' + str(i)))\n",
    "    return {\"W_i\": W, \"b_i\": b}"
   ]
  },
  {
   "cell_type": "code",
   "execution_count": 8,
   "id": "b9fa8517",
   "metadata": {},
   "outputs": [],
   "source": [
    "def relu_except_last_layer(layer_dimensions):\n",
    "    return [tf.keras.activations.sigmoid] * (len(layer_dimensions) - 2) + [tf.keras.activations.relu]"
   ]
  },
  {
   "cell_type": "code",
   "execution_count": 9,
   "id": "58f0064b",
   "metadata": {},
   "outputs": [],
   "source": [
    "def forward_pass(W_i, b_i, g_i, X):\n",
    "    for i, (W, b, g) in enumerate(zip(W_i, b_i, g_i)):\n",
    "        if i == 0:\n",
    "            Z = X.dot(W) + b\n",
    "        else:\n",
    "            Z = A.dot(W) + b\n",
    "        A = g(Z)\n",
    "    return A"
   ]
  },
  {
   "cell_type": "markdown",
   "id": "1fca4443",
   "metadata": {},
   "source": [
    "## Example"
   ]
  },
  {
   "cell_type": "markdown",
   "id": "244a162f",
   "metadata": {},
   "source": [
    "### Data"
   ]
  },
  {
   "cell_type": "code",
   "execution_count": null,
   "id": "248c83f4",
   "metadata": {},
   "outputs": [],
   "source": []
  },
  {
   "cell_type": "markdown",
   "id": "3420ed8d",
   "metadata": {},
   "source": [
    "### Model"
   ]
  },
  {
   "cell_type": "code",
   "execution_count": 12,
   "id": "251d2d6b",
   "metadata": {},
   "outputs": [],
   "source": [
    "layers = [10, 10, 1]\n",
    "\n",
    "parameters = initialize_weights_and_biases(layers)\n",
    "W_i, b_i = [parameters[_] for _ in [\"W_i\", \"b_i\"]]\n",
    "g_i = relu_except_last_layer(layers)\n",
    "forward_pass(W_i, b_i, g_i)"
   ]
  },
  {
   "cell_type": "code",
   "execution_count": null,
   "id": "1b87e540",
   "metadata": {},
   "outputs": [],
   "source": []
  }
 ],
 "metadata": {
  "kernelspec": {
   "display_name": "Python 3 (ipykernel)",
   "language": "python",
   "name": "python3"
  },
  "language_info": {
   "codemirror_mode": {
    "name": "ipython",
    "version": 3
   },
   "file_extension": ".py",
   "mimetype": "text/x-python",
   "name": "python",
   "nbconvert_exporter": "python",
   "pygments_lexer": "ipython3",
   "version": "3.9.7"
  }
 },
 "nbformat": 4,
 "nbformat_minor": 5
}
